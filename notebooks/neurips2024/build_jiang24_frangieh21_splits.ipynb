{
 "cells": [
  {
   "cell_type": "markdown",
   "id": "d8c496b6-b613-441d-aa7d-50fbc1262fc1",
   "metadata": {},
   "source": [
    "# Generate manual splits for Jiang24 and Frangieh21"
   ]
  },
  {
   "cell_type": "code",
   "execution_count": 1,
   "id": "7346c620-d58c-4a15-be2f-227bbab0648f",
   "metadata": {},
   "outputs": [],
   "source": [
    "import scanpy as sc\n",
    "import pandas as pd\n",
    "from sklearn.model_selection import train_test_split\n",
    "\n",
    "from perturbench.data.datasplitter import PerturbationDataSplitter\n",
    "\n",
    "import warnings\n",
    "warnings.simplefilter(action='ignore', category=FutureWarning)\n",
    "\n",
    "%load_ext autoreload\n",
    "%autoreload 2"
   ]
  },
  {
   "cell_type": "code",
   "execution_count": 3,
   "id": "d62a88e2",
   "metadata": {},
   "outputs": [],
   "source": [
    "data_cache_dir = 'perturbench_data/'"
   ]
  },
  {
   "cell_type": "markdown",
   "id": "39802d6b",
   "metadata": {},
   "source": [
    "## Jiang24"
   ]
  },
  {
   "cell_type": "code",
   "execution_count": 12,
   "id": "464e9e67",
   "metadata": {},
   "outputs": [
    {
     "data": {
      "text/plain": [
       "AnnData object with n_obs × n_vars = 1628476 × 15476 backed at 'perturbench_data/jiang24_processed.h5ad'\n",
       "    obs: 'orig.ident', 'nCount_RNA', 'nFeature_RNA', 'sample', 'bc1_well', 'bc2_well', 'bc3_well', 'percent.mito', 'cell_type', 'pathway', 'sample_ID', 'Batch_info', 'guide', 'gene', 'mixscale_score', 'treatment', 'condition', 'perturbation', 'ncounts', 'ngenes', 'perturbation_type', 'dataset', 'cov_merged', 'n_genes_by_counts', 'log1p_n_genes_by_counts', 'total_counts', 'log1p_total_counts', 'pct_counts_in_top_50_genes', 'pct_counts_in_top_100_genes', 'pct_counts_in_top_200_genes', 'pct_counts_in_top_500_genes'\n",
       "    var: 'n_cells', 'n_cells_by_counts', 'mean_counts', 'log1p_mean_counts', 'pct_dropout_by_counts', 'total_counts', 'log1p_total_counts', 'highly_variable', 'highly_variable_rank', 'means', 'variances', 'variances_norm', 'highly_variable_nbatches'\n",
       "    uns: 'hvg', 'log1p', 'rank_genes_groups_cov'\n",
       "    layers: 'counts'"
      ]
     },
     "execution_count": 12,
     "metadata": {},
     "output_type": "execute_result"
    }
   ],
   "source": [
    "adata = sc.read_h5ad(f'{data_cache_dir}/jiang24_processed.h5ad', backed='r')\n",
    "adata"
   ]
  },
  {
   "cell_type": "markdown",
   "id": "59567524",
   "metadata": {},
   "source": [
    "### Create a manual split"
   ]
  },
  {
   "cell_type": "code",
   "execution_count": 14,
   "id": "2ec56cdf",
   "metadata": {},
   "outputs": [
    {
     "data": {
      "text/plain": [
       "[{'IFNG', 'k562'},\n",
       " {'IFNG', 'mcf7'},\n",
       " {'IFNG', 'ht29'},\n",
       " {'IFNG', 'hap1'},\n",
       " {'INS', 'k562'},\n",
       " {'INS', 'mcf7'},\n",
       " {'INS', 'ht29'},\n",
       " {'INS', 'hap1'},\n",
       " {'TGFB', 'k562'},\n",
       " {'TGFB', 'mcf7'},\n",
       " {'TGFB', 'ht29'},\n",
       " {'TGFB', 'hap1'}]"
      ]
     },
     "execution_count": 14,
     "metadata": {},
     "output_type": "execute_result"
    }
   ],
   "source": [
    "jiang24_heldout_covariates = []\n",
    "cytokines_holdout = ['IFNG', 'INS', 'TGFB']\n",
    "cell_lines_holdout = ['k562', 'mcf7', 'ht29', 'hap1']\n",
    "for cytokine in cytokines_holdout:\n",
    "    for cell_line in cell_lines_holdout:\n",
    "        jiang24_heldout_covariates.append({cytokine, cell_line})\n",
    "jiang24_heldout_covariates"
   ]
  },
  {
   "cell_type": "code",
   "execution_count": 13,
   "id": "8ce0eab3",
   "metadata": {},
   "outputs": [
    {
     "data": {
      "text/plain": [
       "<perturbench.data.datasplitter.PerturbationDataSplitter at 0x7f1900a37a10>"
      ]
     },
     "execution_count": 13,
     "metadata": {},
     "output_type": "execute_result"
    }
   ],
   "source": [
    "manual_splitter = PerturbationDataSplitter(\n",
    "    adata.obs.copy(),\n",
    "    perturbation_key='condition',\n",
    "    covariate_keys=['cell_type', 'treatment'],\n",
    "    perturbation_control_value='control',\n",
    ")\n",
    "manual_splitter"
   ]
  },
  {
   "cell_type": "markdown",
   "id": "54a9a0d7",
   "metadata": {},
   "source": [
    "Holdout 70% of perturbations in 4 cytokine treatments for 4 cell lines"
   ]
  },
  {
   "cell_type": "code",
   "execution_count": 15,
   "id": "a8a34241",
   "metadata": {},
   "outputs": [
    {
     "name": "stdout",
     "output_type": "stream",
     "text": [
      "Split summary: \n",
      "                   train  val  test\n",
      "('INS', 'mcf7')       15   16    16\n",
      "('TNFA', 'a549')      56    1     1\n",
      "('mcf7', 'IFNB')      62    1     1\n",
      "('INS', 'hap1')       15   16    16\n",
      "('TGFB', 'a549')      53    1     1\n",
      "('TGFB', 'mcf7')      17   19    19\n",
      "('IFNG', 'hap1')      19   22    21\n",
      "('k562', 'INS')       15   16    16\n",
      "('TGFB', 'hap1')      17   19    19\n",
      "('INS', 'ht29')       15   16    16\n",
      "('TNFA', 'bxpc3')     56    1     1\n",
      "('IFNB', 'hap1')      62    1     1\n",
      "('IFNG', 'a549')      60    1     1\n",
      "('a549', 'IFNB')      62    1     1\n",
      "('IFNG', 'ht29')      19   21    22\n",
      "('IFNB', 'ht29')      62    1     1\n",
      "('k562', 'TGFB')      17   19    19\n",
      "('TNFA', 'mcf7')      56    1     1\n",
      "('INS', 'a549')       45    1     1\n",
      "('IFNB', 'bxpc3')     62    1     1\n",
      "('IFNG', 'bxpc3')     60    1     1\n",
      "('IFNG', 'k562')      19   22    21\n",
      "('k562', 'IFNB')      62    1     1\n",
      "('TGFB', 'ht29')      17   19    19\n",
      "('TNFA', 'hap1')      56    1     1\n",
      "('TGFB', 'bxpc3')     53    1     1\n",
      "('TNFA', 'k562')      56    1     1\n",
      "('IFNG', 'mcf7')      19   21    22\n",
      "('TNFA', 'ht29')      56    1     1\n",
      "('INS', 'bxpc3')      45    1     1\n"
     ]
    }
   ],
   "source": [
    "jiang24_split = manual_splitter.split_covariates_manual(\n",
    "    seed=0, \n",
    "    covariates_holdout=jiang24_heldout_covariates,\n",
    "    max_heldout_fraction_per_covariate=0.7, ## Maximum fraction of perturbations held out per covariate\n",
    ")"
   ]
  },
  {
   "cell_type": "code",
   "execution_count": 16,
   "id": "6e44cb63",
   "metadata": {},
   "outputs": [],
   "source": [
    "jiang24_split.to_csv(f'{data_cache_dir}/jiang24_split.csv', header=False)"
   ]
  },
  {
   "cell_type": "markdown",
   "id": "dafa97ef",
   "metadata": {},
   "source": [
    "## frangieh21"
   ]
  },
  {
   "cell_type": "code",
   "execution_count": 4,
   "id": "fa40f204",
   "metadata": {},
   "outputs": [
    {
     "data": {
      "text/plain": [
       "AnnData object with n_obs × n_vars = 218331 × 23712\n",
       "    obs: 'library_preparation_protocol', 'perturbation_2', 'MOI', 'sgRNA', 'UMI_count', 'guide_id', 'umap_x', 'umap_y', 'perturbation', 'tissue_type', 'cancer', 'disease', 'perturbation_type', 'celltype', 'organism', 'perturbation_type_2', 'nperts', 'ngenes', 'ncounts', 'percent_mito', 'percent_ribo', 'cell_type', 'treatment', 'condition', 'dataset'\n",
       "    var: 'ensembl_id', 'ncounts', 'ncells'"
      ]
     },
     "execution_count": 4,
     "metadata": {},
     "output_type": "execute_result"
    }
   ],
   "source": [
    "adata = sc.read_h5ad(f'{data_cache_dir}/frangieh21_processed.h5ad')\n",
    "adata"
   ]
  },
  {
   "cell_type": "code",
   "execution_count": 5,
   "id": "5772eeef",
   "metadata": {},
   "outputs": [
    {
     "data": {
      "text/plain": [
       "treatment\n",
       "IFNγ          87590\n",
       "co-culture    73114\n",
       "none          57627\n",
       "Name: count, dtype: int64"
      ]
     },
     "execution_count": 5,
     "metadata": {},
     "output_type": "execute_result"
    }
   ],
   "source": [
    "adata.obs.treatment.value_counts()"
   ]
  },
  {
   "cell_type": "code",
   "execution_count": 6,
   "id": "1cdf1076",
   "metadata": {},
   "outputs": [
    {
     "data": {
      "text/plain": [
       "<perturbench.data.datasplitter.PerturbationDataSplitter at 0x7fa22a1e5790>"
      ]
     },
     "execution_count": 6,
     "metadata": {},
     "output_type": "execute_result"
    }
   ],
   "source": [
    "manual_splitter = PerturbationDataSplitter(\n",
    "    adata.obs.copy(),\n",
    "    perturbation_key='condition',\n",
    "    covariate_keys=['treatment'],\n",
    "    perturbation_control_value='control',\n",
    ")\n",
    "manual_splitter"
   ]
  },
  {
   "cell_type": "markdown",
   "id": "93b33c8a",
   "metadata": {},
   "source": [
    "Holdout 70% of perturbations in the Co-culture treatment"
   ]
  },
  {
   "cell_type": "code",
   "execution_count": 7,
   "id": "5fb9ffca",
   "metadata": {},
   "outputs": [
    {
     "name": "stdout",
     "output_type": "stream",
     "text": [
      "Split summary: \n",
      "                 train  val  test\n",
      "('IFNγ',)          249    1     1\n",
      "('none',)          249    1     1\n",
      "('co-culture',)     76   87    88\n"
     ]
    }
   ],
   "source": [
    "frangieh21_split = manual_splitter.split_covariates_manual(\n",
    "    seed=0, \n",
    "    covariates_holdout=[{'co-culture'}],\n",
    "    max_heldout_fraction_per_covariate=0.7, ## Maximum fraction of perturbations held out per covariate\n",
    ")"
   ]
  },
  {
   "cell_type": "code",
   "execution_count": 8,
   "id": "19dfdb23",
   "metadata": {},
   "outputs": [],
   "source": [
    "frangieh21_split.to_csv(f'{data_cache_dir}/frangieh21_split.csv', header=False)"
   ]
  },
  {
   "cell_type": "code",
   "execution_count": null,
   "id": "10c46743",
   "metadata": {},
   "outputs": [],
   "source": []
  },
  {
   "cell_type": "code",
   "execution_count": null,
   "id": "f1ddbead",
   "metadata": {},
   "outputs": [],
   "source": []
  },
  {
   "cell_type": "code",
   "execution_count": null,
   "id": "41d15441",
   "metadata": {},
   "outputs": [],
   "source": []
  }
 ],
 "metadata": {
  "kernelspec": {
   "display_name": "perturbench",
   "language": "python",
   "name": "python3"
  },
  "language_info": {
   "codemirror_mode": {
    "name": "ipython",
    "version": 3
   },
   "file_extension": ".py",
   "mimetype": "text/x-python",
   "name": "python",
   "nbconvert_exporter": "python",
   "pygments_lexer": "ipython3",
   "version": "3.11.12"
  }
 },
 "nbformat": 4,
 "nbformat_minor": 5
}
