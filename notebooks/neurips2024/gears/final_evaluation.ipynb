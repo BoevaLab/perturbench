{
 "cells": [
  {
   "cell_type": "markdown",
   "metadata": {},
   "source": [
    "# 2024-08-20-Analysis: Final GEARS evaluation on test split"
   ]
  },
  {
   "cell_type": "code",
   "execution_count": null,
   "metadata": {},
   "outputs": [],
   "source": [
    "import scanpy as sc\n",
    "import anndata as ad\n",
    "import pandas as pd\n",
    "import numpy as np\n",
    "import optuna\n",
    "\n",
    "from gears_helpers import run_gears\n",
    "\n",
    "%load_ext autoreload\n",
    "%autoreload 2"
   ]
  },
  {
   "cell_type": "markdown",
   "metadata": {},
   "source": [
    "## Load best trial hparams"
   ]
  },
  {
   "cell_type": "code",
   "execution_count": 2,
   "metadata": {},
   "outputs": [
    {
     "name": "stderr",
     "output_type": "stream",
     "text": [
      "[I 2024-08-20 21:07:31,666] Using an existing study with name 'norman19_gears_optuna' instead of creating a new one.\n"
     ]
    }
   ],
   "source": [
    "best_params = {\n",
    "    'hidden_size': 384,\n",
    "    'num_go_gnn_layers': 1,\n",
    "    'num_gene_gnn_layers': 2,\n",
    "    'decoder_hidden_size': 48,\n",
    "    'num_similar_genes_go_graph': 25,\n",
    "    'num_similar_genes_co_express_graph': 15,\n",
    "    'coexpress_threshold': 0.31,\n",
    "    'lr': 3.863459970955458e-05,\n",
    "    'wd': 0.0009967351093758648\n",
    "}"
   ]
  },
  {
   "cell_type": "markdown",
   "metadata": {},
   "source": [
    "## Run best trials"
   ]
  },
  {
   "cell_type": "code",
   "execution_count": null,
   "metadata": {},
   "outputs": [],
   "source": [
    "summary_metrics_list = []\n",
    "for seed in [301, 302, 303, 304]:\n",
    "    run_params = best_params.copy()\n",
    "    run_params['seed'] = seed\n",
    "    run_params['eval_split'] = 'test'\n",
    "    \n",
    "    summary_metrics = run_gears(\n",
    "        **run_params,\n",
    "    )\n",
    "    summary_metrics_list.append(summary_metrics)"
   ]
  },
  {
   "cell_type": "code",
   "execution_count": 10,
   "metadata": {},
   "outputs": [
    {
     "data": {
      "text/plain": [
       "[rmse_average         0.068426\n",
       " rmse_rank_average    0.043478\n",
       " cosine_logfc         0.435436\n",
       " cosine_rank_logfc    0.052930\n",
       " dtype: float64,\n",
       " rmse_average         0.067806\n",
       " rmse_rank_average    0.059074\n",
       " cosine_logfc         0.439017\n",
       " cosine_rank_logfc    0.057656\n",
       " dtype: float64,\n",
       " rmse_average         0.067963\n",
       " rmse_rank_average    0.045369\n",
       " cosine_logfc         0.447089\n",
       " cosine_rank_logfc    0.043478\n",
       " dtype: float64,\n",
       " rmse_average         0.070721\n",
       " rmse_rank_average    0.072779\n",
       " cosine_logfc         0.442385\n",
       " cosine_rank_logfc    0.052457\n",
       " dtype: float64]"
      ]
     },
     "execution_count": 10,
     "metadata": {},
     "output_type": "execute_result"
    }
   ],
   "source": [
    "summary_metrics_list"
   ]
  },
  {
   "cell_type": "code",
   "execution_count": 11,
   "metadata": {},
   "outputs": [
    {
     "data": {
      "text/html": [
       "<div>\n",
       "<style scoped>\n",
       "    .dataframe tbody tr th:only-of-type {\n",
       "        vertical-align: middle;\n",
       "    }\n",
       "\n",
       "    .dataframe tbody tr th {\n",
       "        vertical-align: top;\n",
       "    }\n",
       "\n",
       "    .dataframe thead th {\n",
       "        text-align: right;\n",
       "    }\n",
       "</style>\n",
       "<table border=\"1\" class=\"dataframe\">\n",
       "  <thead>\n",
       "    <tr style=\"text-align: right;\">\n",
       "      <th></th>\n",
       "      <th>rmse_average</th>\n",
       "      <th>rmse_rank_average</th>\n",
       "      <th>cosine_logfc</th>\n",
       "      <th>cosine_rank_logfc</th>\n",
       "    </tr>\n",
       "  </thead>\n",
       "  <tbody>\n",
       "    <tr>\n",
       "      <th>0</th>\n",
       "      <td>0.068426</td>\n",
       "      <td>0.043478</td>\n",
       "      <td>0.435436</td>\n",
       "      <td>0.052930</td>\n",
       "    </tr>\n",
       "    <tr>\n",
       "      <th>1</th>\n",
       "      <td>0.067806</td>\n",
       "      <td>0.059074</td>\n",
       "      <td>0.439017</td>\n",
       "      <td>0.057656</td>\n",
       "    </tr>\n",
       "    <tr>\n",
       "      <th>2</th>\n",
       "      <td>0.067963</td>\n",
       "      <td>0.045369</td>\n",
       "      <td>0.447089</td>\n",
       "      <td>0.043478</td>\n",
       "    </tr>\n",
       "    <tr>\n",
       "      <th>3</th>\n",
       "      <td>0.070721</td>\n",
       "      <td>0.072779</td>\n",
       "      <td>0.442385</td>\n",
       "      <td>0.052457</td>\n",
       "    </tr>\n",
       "  </tbody>\n",
       "</table>\n",
       "</div>"
      ],
      "text/plain": [
       "   rmse_average  rmse_rank_average  cosine_logfc  cosine_rank_logfc\n",
       "0      0.068426           0.043478      0.435436           0.052930\n",
       "1      0.067806           0.059074      0.439017           0.057656\n",
       "2      0.067963           0.045369      0.447089           0.043478\n",
       "3      0.070721           0.072779      0.442385           0.052457"
      ]
     },
     "execution_count": 11,
     "metadata": {},
     "output_type": "execute_result"
    }
   ],
   "source": [
    "summary_metrics_df = pd.DataFrame(summary_metrics_list)\n",
    "summary_metrics_df"
   ]
  },
  {
   "cell_type": "code",
   "execution_count": 14,
   "metadata": {},
   "outputs": [
    {
     "data": {
      "text/plain": [
       "rmse_average         0.068729\n",
       "rmse_rank_average    0.055175\n",
       "cosine_logfc         0.440982\n",
       "cosine_rank_logfc    0.051630\n",
       "dtype: float64"
      ]
     },
     "execution_count": 14,
     "metadata": {},
     "output_type": "execute_result"
    }
   ],
   "source": [
    "summary_metrics_df.mean(0)"
   ]
  },
  {
   "cell_type": "code",
   "execution_count": 16,
   "metadata": {},
   "outputs": [
    {
     "data": {
      "text/plain": [
       "rmse_average         0.001354\n",
       "rmse_rank_average    0.013639\n",
       "cosine_logfc         0.004963\n",
       "cosine_rank_logfc    0.005920\n",
       "dtype: float64"
      ]
     },
     "execution_count": 16,
     "metadata": {},
     "output_type": "execute_result"
    }
   ],
   "source": [
    "summary_metrics_df.std(0)"
   ]
  }
 ],
 "metadata": {
  "kernelspec": {
   "display_name": "prime-dev",
   "language": "python",
   "name": "prime-dev"
  },
  "language_info": {
   "codemirror_mode": {
    "name": "ipython",
    "version": 3
   },
   "file_extension": ".py",
   "mimetype": "text/x-python",
   "name": "python",
   "nbconvert_exporter": "python",
   "pygments_lexer": "ipython3",
   "version": "3.11.4"
  }
 },
 "nbformat": 4,
 "nbformat_minor": 4
}
