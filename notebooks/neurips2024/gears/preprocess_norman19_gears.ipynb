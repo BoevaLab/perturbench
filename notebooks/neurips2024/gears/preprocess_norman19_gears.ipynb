{
 "cells": [
  {
   "cell_type": "code",
   "execution_count": 1,
   "metadata": {},
   "outputs": [],
   "source": [
    "import scanpy as sc\n",
    "import numpy as np\n",
    "import pandas as pd\n",
    "from gears import PertData\n",
    "import pickle\n",
    "from perturbench.data.accessors.norman19 import Norman19\n",
    "from perturbench.data.datasplitter import PerturbationDataSplitter\n",
    "\n",
    "%load_ext autoreload\n",
    "%autoreload 2"
   ]
  },
  {
   "cell_type": "code",
   "execution_count": 2,
   "metadata": {},
   "outputs": [
    {
     "name": "stdout",
     "output_type": "stream",
     "text": [
      "Loading processed data from: ../perturbench_data/norman19_processed.h5ad\n"
     ]
    },
    {
     "data": {
      "text/plain": [
       "AnnData object with n_obs × n_vars = 111445 × 5666\n",
       "    obs: 'guide_id', 'read_count', 'UMI_count', 'coverage', 'gemgroup', 'good_coverage', 'number_of_cells', 'tissue_type', 'cell_type', 'cancer', 'disease', 'perturbation_type', 'celltype', 'organism', 'perturbation', 'nperts', 'ngenes', 'ncounts', 'percent_mito', 'percent_ribo', 'condition', 'cov_merged', 'n_genes_by_counts', 'log1p_n_genes_by_counts', 'total_counts', 'log1p_total_counts', 'pct_counts_in_top_50_genes', 'pct_counts_in_top_100_genes', 'pct_counts_in_top_200_genes', 'pct_counts_in_top_500_genes'\n",
       "    var: 'ensemble_id', 'ncounts', 'ncells', 'n_cells', 'n_cells_by_counts', 'mean_counts', 'log1p_mean_counts', 'pct_dropout_by_counts', 'total_counts', 'log1p_total_counts', 'highly_variable', 'highly_variable_rank', 'means', 'variances', 'variances_norm', 'highly_variable_nbatches'\n",
       "    uns: 'hvg', 'log1p', 'rank_genes_groups_cov'\n",
       "    layers: 'counts'"
      ]
     },
     "execution_count": 2,
     "metadata": {},
     "output_type": "execute_result"
    }
   ],
   "source": [
    "adata = Norman19().get_anndata()\n",
    "adata"
   ]
  },
  {
   "cell_type": "code",
   "execution_count": 3,
   "metadata": {},
   "outputs": [],
   "source": [
    "adata.var['gene_name'] = adata.var_names.values"
   ]
  },
  {
   "cell_type": "code",
   "execution_count": 4,
   "metadata": {},
   "outputs": [
    {
     "data": {
      "text/plain": [
       "condition\n",
       "ctrl             11855\n",
       "KLF1+ctrl         1960\n",
       "BAK1+ctrl         1457\n",
       "CEBPE+ctrl        1233\n",
       "CEBPE+RUNX1T1     1219\n",
       "                 ...  \n",
       "CBL+UBASH3A         64\n",
       "CEBPB+CEBPA         64\n",
       "C3orf72+FOXL2       59\n",
       "JUN+CEBPB           59\n",
       "JUN+CEBPA           54\n",
       "Name: count, Length: 237, dtype: int64"
      ]
     },
     "execution_count": 4,
     "metadata": {},
     "output_type": "execute_result"
    }
   ],
   "source": [
    "condition = []\n",
    "for cond in adata.obs.condition.to_list():\n",
    "    genes = cond.split('+')\n",
    "    if len(genes) == 1:\n",
    "        if genes[0] == 'control':\n",
    "            genes = ['ctrl']\n",
    "        else:\n",
    "            genes.append('ctrl')\n",
    "    new_cond = '+'.join(genes)\n",
    "    condition.append(new_cond)\n",
    "\n",
    "adata.obs['condition'] = condition\n",
    "adata.obs['condition'] = adata.obs['condition'].astype('category')\n",
    "adata.obs['condition'].value_counts()"
   ]
  },
  {
   "cell_type": "code",
   "execution_count": 5,
   "metadata": {},
   "outputs": [
    {
     "name": "stderr",
     "output_type": "stream",
     "text": [
      "/tmp/ipykernel_63695/1076221850.py:3: ImplicitModificationWarning: Trying to modify attribute `.obs` of view, initializing view as actual.\n",
      "  adata.obs['condition'] = adata.obs.condition.cat.remove_unused_categories()\n"
     ]
    },
    {
     "data": {
      "text/plain": [
       "(110139, 5666)"
      ]
     },
     "execution_count": 5,
     "metadata": {},
     "output_type": "execute_result"
    }
   ],
   "source": [
    "perts_exclude = ['LYL1+IER5L', 'IER5L+ctrl', 'KIAA1804+ctrl', 'IER5L+ctrl'] \n",
    "adata = adata[~adata.obs['condition'].isin(perts_exclude)]\n",
    "adata.obs['condition'] = adata.obs.condition.cat.remove_unused_categories()\n",
    "adata.shape"
   ]
  },
  {
   "cell_type": "code",
   "execution_count": 9,
   "metadata": {},
   "outputs": [
    {
     "name": "stdout",
     "output_type": "stream",
     "text": [
      "           train  val  test\n",
      "('K562',)    143   46    47\n"
     ]
    },
    {
     "name": "stderr",
     "output_type": "stream",
     "text": [
      "/weka/ywu/git-repos/perturbench/src/perturbench/data/datasplitter.py:509: FutureWarning: The default of observed=False is deprecated and will be changed to True in a future version of pandas. Pass observed=False to retain current behavior or observed=True to adopt the future default and silence this warning.\n",
      "  for covariates, df in self.obs_dataframe.groupby(self.covariate_keys):\n"
     ]
    }
   ],
   "source": [
    "data_splitter = PerturbationDataSplitter(\n",
    "    obs_dataframe=adata.obs,\n",
    "    perturbation_key='perturbation',\n",
    "    covariate_keys=['cell_type'],\n",
    "    perturbation_control_value='control',\n",
    ")\n",
    "train_test_split = data_splitter.split_combinations(\n",
    "    seed=42,\n",
    "    max_heldout_fraction_per_covariate=0.7,\n",
    ")"
   ]
  },
  {
   "cell_type": "code",
   "execution_count": 10,
   "metadata": {},
   "outputs": [],
   "source": [
    "adata.obs['combo_split'] = train_test_split.values\n",
    "\n",
    "split_dict = {}\n",
    "for split_val in adata.obs['combo_split'].unique():\n",
    "    split_perts = list(adata[adata.obs['combo_split'] == split_val].obs.condition.unique())\n",
    "    if split_val in ['val', 'test']:\n",
    "        split_perts.remove('ctrl')\n",
    "    split_dict[split_val] = split_perts"
   ]
  },
  {
   "cell_type": "code",
   "execution_count": 11,
   "metadata": {},
   "outputs": [
    {
     "name": "stdout",
     "output_type": "stream",
     "text": [
      "train 143\n",
      "val 45\n",
      "test 46\n"
     ]
    }
   ],
   "source": [
    "for k,v in split_dict.items():\n",
    "    print(k, len(v))"
   ]
  },
  {
   "cell_type": "code",
   "execution_count": null,
   "metadata": {},
   "outputs": [],
   "source": [
    "gears_datapath = '../perturbench_data/gears/'\n",
    "dataset_name = 'norman19'\n",
    "\n",
    "split_dict_path = gears_datapath + f'{dataset_name}_gears_split.pkl'\n",
    "with open(split_dict_path, 'wb') as f:\n",
    "    pickle.dump(split_dict, f)\n",
    "\n",
    "pert_data = PertData(gears_datapath) # specific saved folder\n",
    "pert_data.new_data_process(dataset_name=dataset_name, adata=adata, skip_calc_de=False) # specific dataset name and adata object"
   ]
  }
 ],
 "metadata": {
  "kernelspec": {
   "display_name": "prime-dev",
   "language": "python",
   "name": "python3"
  },
  "language_info": {
   "codemirror_mode": {
    "name": "ipython",
    "version": 3
   },
   "file_extension": ".py",
   "mimetype": "text/x-python",
   "name": "python",
   "nbconvert_exporter": "python",
   "pygments_lexer": "ipython3",
   "version": "3.11.9"
  }
 },
 "nbformat": 4,
 "nbformat_minor": 2
}
