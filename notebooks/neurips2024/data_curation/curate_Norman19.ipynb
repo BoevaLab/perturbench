{
 "cells": [
  {
   "cell_type": "markdown",
   "metadata": {},
   "source": [
    "# 2023-04-17-Curation: Norman19 Combo Screen"
   ]
  },
  {
   "cell_type": "markdown",
   "metadata": {},
   "source": [
    "Add cross validation splits to Norman19"
   ]
  },
  {
   "cell_type": "code",
   "execution_count": 1,
   "metadata": {},
   "outputs": [],
   "source": [
    "import scanpy as sc\n",
    "import os\n",
    "import subprocess as sp\n",
    "from perturbench.analysis.preprocess import preprocess\n",
    "from scipy.sparse import csr_matrix\n",
    "\n",
    "%reload_ext autoreload\n",
    "%autoreload 2"
   ]
  },
  {
   "cell_type": "markdown",
   "metadata": {},
   "source": [
    "Download from: https://zenodo.org/records/7041849/files/NormanWeissman2019_filtered.h5ad?download=1"
   ]
  },
  {
   "cell_type": "code",
   "execution_count": 2,
   "metadata": {},
   "outputs": [],
   "source": [
    "data_url = 'https://zenodo.org/records/7041849/files/NormanWeissman2019_filtered.h5ad?download=1'\n",
    "data_cache_dir = '../perturbench_data' ## Change this to your local data directory\n",
    "\n",
    "if not os.path.exists(data_cache_dir):\n",
    "    os.makedirs(data_cache_dir)\n",
    "\n",
    "tmp_data_dir = f'{data_cache_dir}/norman19_downloaded.h5ad'\n",
    "\n",
    "if not os.path.exists(tmp_data_dir):\n",
    "    sp.call(f'wget {data_url} -O {tmp_data_dir}', shell=True)"
   ]
  },
  {
   "cell_type": "code",
   "execution_count": 3,
   "metadata": {},
   "outputs": [
    {
     "data": {
      "text/plain": [
       "AnnData object with n_obs × n_vars = 111445 × 33694\n",
       "    obs: 'guide_id', 'read_count', 'UMI_count', 'coverage', 'gemgroup', 'good_coverage', 'number_of_cells', 'tissue_type', 'cell_line', 'cancer', 'disease', 'perturbation_type', 'celltype', 'organism', 'perturbation', 'nperts', 'ngenes', 'ncounts', 'percent_mito', 'percent_ribo'\n",
       "    var: 'ensemble_id', 'ncounts', 'ncells'"
      ]
     },
     "execution_count": 3,
     "metadata": {},
     "output_type": "execute_result"
    }
   ],
   "source": [
    "adata = sc.read_h5ad(tmp_data_dir)\n",
    "adata"
   ]
  },
  {
   "cell_type": "code",
   "execution_count": 4,
   "metadata": {},
   "outputs": [],
   "source": [
    "adata.obs.rename(columns = {\n",
    "    'nCount_RNA': 'ncounts',\n",
    "    'nFeature_RNA': 'ngenes',\n",
    "    'percent.mt': 'percent_mito',\n",
    "    'cell_line': 'cell_type',\n",
    "}, inplace=True)"
   ]
  },
  {
   "cell_type": "code",
   "execution_count": 5,
   "metadata": {},
   "outputs": [
    {
     "data": {
      "text/plain": [
       "['ARID1A', 'BCORL1', 'FOSB', 'SET_KLF1', 'OSR2', ..., 'CEBPB_OSR2', 'PRDM1_CBFA2T3', 'FOSB_CEBPB', 'ZBTB10_DLX2', 'FEV_CBFA2T3']\n",
       "Length: 237\n",
       "Categories (237, object): ['AHR', 'AHR_FEV', 'AHR_KLF1', 'ARID1A', ..., 'ZC3HAV1_HOXC13', 'ZNF318', 'ZNF318_FOXL2', 'control']"
      ]
     },
     "execution_count": 5,
     "metadata": {},
     "output_type": "execute_result"
    }
   ],
   "source": [
    "adata.obs.perturbation.unique()"
   ]
  },
  {
   "cell_type": "code",
   "execution_count": 6,
   "metadata": {},
   "outputs": [
    {
     "data": {
      "text/plain": [
       "perturbation\n",
       "control          11855\n",
       "KLF1              1960\n",
       "BAK1              1457\n",
       "CEBPE             1233\n",
       "CEBPE+RUNX1T1     1219\n",
       "                 ...  \n",
       "CEBPB+CEBPA         64\n",
       "CBL+UBASH3A         64\n",
       "C3orf72+FOXL2       59\n",
       "JUN+CEBPB           59\n",
       "JUN+CEBPA           54\n",
       "Name: count, Length: 237, dtype: int64"
      ]
     },
     "execution_count": 6,
     "metadata": {},
     "output_type": "execute_result"
    }
   ],
   "source": [
    "adata.obs['perturbation'] = adata.obs['perturbation'].str.replace('_', '+')\n",
    "adata.obs['perturbation'] = adata.obs['perturbation'].astype('category')\n",
    "adata.obs.perturbation.value_counts()"
   ]
  },
  {
   "cell_type": "code",
   "execution_count": 7,
   "metadata": {},
   "outputs": [],
   "source": [
    "adata.obs['condition'] = adata.obs.perturbation.copy()"
   ]
  },
  {
   "cell_type": "code",
   "execution_count": 8,
   "metadata": {},
   "outputs": [],
   "source": [
    "adata.X = csr_matrix(adata.X)"
   ]
  },
  {
   "cell_type": "code",
   "execution_count": 9,
   "metadata": {},
   "outputs": [
    {
     "name": "stdout",
     "output_type": "stream",
     "text": [
      "Preprocessing ...\n",
      "Filtering for highly variable genes or differentially expressed genes ...\n",
      "Processed dataset summary:\n",
      "View of AnnData object with n_obs × n_vars = 111445 × 5666\n",
      "    obs: 'guide_id', 'read_count', 'UMI_count', 'coverage', 'gemgroup', 'good_coverage', 'number_of_cells', 'tissue_type', 'cell_type', 'cancer', 'disease', 'perturbation_type', 'celltype', 'organism', 'perturbation', 'nperts', 'ngenes', 'ncounts', 'percent_mito', 'percent_ribo', 'condition', 'cov_merged', 'n_genes_by_counts', 'log1p_n_genes_by_counts', 'total_counts', 'log1p_total_counts', 'pct_counts_in_top_50_genes', 'pct_counts_in_top_100_genes', 'pct_counts_in_top_200_genes', 'pct_counts_in_top_500_genes'\n",
      "    var: 'ensemble_id', 'ncounts', 'ncells', 'n_cells', 'n_cells_by_counts', 'mean_counts', 'log1p_mean_counts', 'pct_dropout_by_counts', 'total_counts', 'log1p_total_counts', 'highly_variable', 'highly_variable_rank', 'means', 'variances', 'variances_norm', 'highly_variable_nbatches'\n",
      "    uns: 'log1p', 'hvg', 'rank_genes_groups_cov'\n",
      "    layers: 'counts'\n"
     ]
    }
   ],
   "source": [
    "adata = preprocess(\n",
    "    adata,\n",
    "    perturbation_key='condition',\n",
    "    covariate_keys=['cell_type'],\n",
    ")"
   ]
  },
  {
   "cell_type": "code",
   "execution_count": 12,
   "metadata": {},
   "outputs": [],
   "source": [
    "adata = adata.copy()\n",
    "output_data_path = f'{data_cache_dir}/norman19_processed.h5ad'\n",
    "adata.write_h5ad(output_data_path)"
   ]
  }
 ],
 "metadata": {
  "kernelspec": {
   "display_name": "perturbench-dev",
   "language": "python",
   "name": "python3"
  },
  "language_info": {
   "codemirror_mode": {
    "name": "ipython",
    "version": 3
   },
   "file_extension": ".py",
   "mimetype": "text/x-python",
   "name": "python",
   "nbconvert_exporter": "python",
   "pygments_lexer": "ipython3",
   "version": "3.11.9"
  }
 },
 "nbformat": 4,
 "nbformat_minor": 4
}
