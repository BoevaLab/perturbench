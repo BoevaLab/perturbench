{
 "cells": [
  {
   "cell_type": "markdown",
   "metadata": {},
   "source": [
    "# 2023-04-17-Curation: Norman19 Combo Screen"
   ]
  },
  {
   "cell_type": "markdown",
   "metadata": {},
   "source": [
    "Add cross validation splits to Norman19"
   ]
  },
  {
   "cell_type": "code",
   "execution_count": null,
   "metadata": {},
   "outputs": [],
   "source": [
    "import scanpy as sc\n",
    "import os\n",
    "import subprocess as sp\n",
    "from perturbench.analysis.preprocess import preprocess\n",
    "from scipy.sparse import csr_matrix\n",
    "\n",
    "%reload_ext autoreload\n",
    "%autoreload 2"
   ]
  },
  {
   "cell_type": "markdown",
   "metadata": {},
   "source": [
    "Download from: https://zenodo.org/records/7041849/files/NormanWeissman2019_filtered.h5ad?download=1"
   ]
  },
  {
   "cell_type": "code",
   "execution_count": null,
   "metadata": {},
   "outputs": [],
   "source": [
    "data_url = 'https://zenodo.org/records/7041849/files/NormanWeissman2019_filtered.h5ad?download=1'\n",
    "data_cache_dir = '../perturbench_data' ## Change this to your local data directory\n",
    "\n",
    "if not os.path.exists(data_cache_dir):\n",
    "    os.makedirs(data_cache_dir)\n",
    "\n",
    "tmp_data_dir = f'{data_cache_dir}/norman19_downloaded.h5ad'\n",
    "\n",
    "if not os.path.exists(tmp_data_dir):\n",
    "    sp.call(f'wget {data_url} -O {tmp_data_dir}', shell=True)"
   ]
  },
  {
   "cell_type": "code",
   "execution_count": null,
   "metadata": {},
   "outputs": [],
   "source": [
    "adata = sc.read_h5ad(tmp_data_dir)\n",
    "adata"
   ]
  },
  {
   "cell_type": "code",
   "execution_count": null,
   "metadata": {},
   "outputs": [],
   "source": [
    "adata.obs.rename(columns = {\n",
    "    'nCount_RNA': 'ncounts',\n",
    "    'nFeature_RNA': 'ngenes',\n",
    "    'percent.mt': 'percent_mito',\n",
    "    'cell_line': 'cell_type',\n",
    "}, inplace=True)"
   ]
  },
  {
   "cell_type": "code",
   "execution_count": null,
   "metadata": {},
   "outputs": [],
   "source": [
    "adata.obs.perturbation.unique()"
   ]
  },
  {
   "cell_type": "code",
   "execution_count": null,
   "metadata": {},
   "outputs": [],
   "source": [
    "adata.obs['perturbation'] = adata.obs['perturbation'].str.replace('_', '+')\n",
    "adata.obs['perturbation'] = adata.obs['perturbation'].astype('category')\n",
    "adata.obs.perturbation.value_counts()"
   ]
  },
  {
   "cell_type": "code",
   "execution_count": null,
   "metadata": {},
   "outputs": [],
   "source": [
    "adata.obs['condition'] = adata.obs.perturbation.copy()"
   ]
  },
  {
   "cell_type": "code",
   "execution_count": null,
   "metadata": {},
   "outputs": [],
   "source": [
    "adata.X = csr_matrix(adata.X)"
   ]
  },
  {
   "cell_type": "code",
   "execution_count": null,
   "metadata": {},
   "outputs": [],
   "source": [
    "adata = preprocess(\n",
    "    adata,\n",
    "    perturbation_key='condition',\n",
    "    covariate_keys=['cell_type'],\n",
    ")"
   ]
  },
  {
   "cell_type": "code",
   "execution_count": null,
   "metadata": {},
   "outputs": [],
   "source": [
    "adata = adata.copy()\n",
    "output_data_path = f'{data_cache_dir}/norman19_processed.h5ad'\n",
    "adata.write_h5ad(output_data_path)"
   ]
  },
  {
   "cell_type": "code",
   "execution_count": null,
   "metadata": {},
   "outputs": [],
   "source": []
  },
  {
   "cell_type": "code",
   "execution_count": null,
   "metadata": {},
   "outputs": [],
   "source": []
  },
  {
   "cell_type": "code",
   "execution_count": null,
   "metadata": {},
   "outputs": [],
   "source": [
    "adata.var_names"
   ]
  },
  {
   "cell_type": "code",
   "execution_count": null,
   "metadata": {},
   "outputs": [],
   "source": []
  }
 ],
 "metadata": {
  "kernelspec": {
   "display_name": "perturbench",
   "language": "python",
   "name": "python3"
  },
  "language_info": {
   "codemirror_mode": {
    "name": "ipython",
    "version": 3
   },
   "file_extension": ".py",
   "mimetype": "text/x-python",
   "name": "python",
   "nbconvert_exporter": "python",
   "pygments_lexer": "ipython3",
   "version": "3.11.12"
  }
 },
 "nbformat": 4,
 "nbformat_minor": 4
}
