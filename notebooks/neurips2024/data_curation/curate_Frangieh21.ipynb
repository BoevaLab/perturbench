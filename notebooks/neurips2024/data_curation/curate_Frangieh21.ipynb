{
 "cells": [
  {
   "cell_type": "code",
   "execution_count": null,
   "metadata": {},
   "outputs": [],
   "source": [
    "import scanpy as sc\n",
    "import numpy as np\n",
    "import os\n",
    "import subprocess as sp\n",
    "from scipy.sparse import csr_matrix\n",
    "\n",
    "%load_ext autoreload\n",
    "%autoreload 2"
   ]
  },
  {
   "cell_type": "code",
   "execution_count": null,
   "metadata": {},
   "outputs": [],
   "source": [
    "data_url = 'https://zenodo.org/records/7041849/files/FrangiehIzar2021_RNA.h5ad?download=1'\n",
    "data_cache_dir = '../perturbench_data' ## Change this to your local data directory\n",
    "\n",
    "if not os.path.exists(data_cache_dir):\n",
    "    os.makedirs(data_cache_dir)\n",
    "\n",
    "tmp_data_dir = f'{data_cache_dir}/frangieh21_downloaded.h5ad'\n",
    "\n",
    "if not os.path.exists(tmp_data_dir):\n",
    "    sp.call(f'wget {data_url} -O {tmp_data_dir}', shell=True)"
   ]
  },
  {
   "cell_type": "code",
   "execution_count": null,
   "metadata": {},
   "outputs": [],
   "source": [
    "adata = sc.read_h5ad(tmp_data_dir)\n",
    "adata"
   ]
  },
  {
   "cell_type": "code",
   "execution_count": null,
   "metadata": {},
   "outputs": [],
   "source": [
    "adata.obs.celltype.value_counts()"
   ]
  },
  {
   "cell_type": "code",
   "execution_count": null,
   "metadata": {},
   "outputs": [],
   "source": [
    "adata.obs['cell_type'] = 'melanocyte'"
   ]
  },
  {
   "cell_type": "code",
   "execution_count": null,
   "metadata": {},
   "outputs": [],
   "source": [
    "adata.obs.perturbation_2.value_counts()"
   ]
  },
  {
   "cell_type": "code",
   "execution_count": null,
   "metadata": {},
   "outputs": [],
   "source": [
    "treatment_map = {\n",
    "    'Co-culture': 'co-culture',\n",
    "    'Control': 'none',\n",
    "}\n",
    "\n",
    "adata.obs['treatment'] = [treatment_map[x] if x in treatment_map else x for x in adata.obs.perturbation_2]\n",
    "adata.obs.treatment.value_counts()"
   ]
  },
  {
   "cell_type": "code",
   "execution_count": null,
   "metadata": {},
   "outputs": [],
   "source": [
    "adata.obs.perturbation.value_counts()"
   ]
  },
  {
   "cell_type": "code",
   "execution_count": null,
   "metadata": {},
   "outputs": [],
   "source": [
    "adata.obs['condition'] = adata.obs.perturbation.copy()\n",
    "adata.obs['perturbation_type'] = 'CRISPRi'\n",
    "adata.obs['dataset'] = 'frangieh21'"
   ]
  },
  {
   "cell_type": "code",
   "execution_count": null,
   "metadata": {},
   "outputs": [],
   "source": [
    "from perturbench.analysis.preprocess import preprocess\n",
    "adata = adata.copy()\n",
    "adata.X = csr_matrix(adata.X)\n",
    "adata = preprocess(\n",
    "    adata,\n",
    "    perturbation_key='condition',\n",
    "    covariate_keys=['cell_type'],\n",
    ").copy()"
   ]
  },
  {
   "cell_type": "code",
   "execution_count": null,
   "metadata": {},
   "outputs": [],
   "source": [
    "required_cols = [\n",
    "    'condition',\n",
    "    'cell_type',\n",
    "    'treatment',\n",
    "    'perturbation_type',\n",
    "    'dataset',\n",
    "    'ngenes',\n",
    "    'ncounts',\n",
    "]\n",
    "\n",
    "for col in required_cols:\n",
    "    assert col in adata.obs.columns\n",
    "    if np.any(adata.obs[col].isnull()):\n",
    "        print(col)\n",
    "    if np.any(adata.obs[col].isna()):\n",
    "        print(col)"
   ]
  },
  {
   "cell_type": "code",
   "execution_count": null,
   "metadata": {},
   "outputs": [],
   "source": [
    "adata.var.head()"
   ]
  },
  {
   "cell_type": "code",
   "execution_count": null,
   "metadata": {},
   "outputs": [],
   "source": []
  },
  {
   "cell_type": "code",
   "execution_count": null,
   "metadata": {},
   "outputs": [],
   "source": [
    "adata.write_h5ad(f'{data_cache_dir}/frangieh21_processed.h5ad')"
   ]
  },
  {
   "cell_type": "code",
   "execution_count": null,
   "metadata": {},
   "outputs": [],
   "source": [
    "adata.X.data"
   ]
  },
  {
   "cell_type": "code",
   "execution_count": null,
   "metadata": {},
   "outputs": [],
   "source": [
    "adata.X\n"
   ]
  },
  {
   "cell_type": "code",
   "execution_count": null,
   "metadata": {},
   "outputs": [],
   "source": []
  }
 ],
 "metadata": {
  "kernelspec": {
   "display_name": "perturbench",
   "language": "python",
   "name": "python3"
  },
  "language_info": {
   "codemirror_mode": {
    "name": "ipython",
    "version": 3
   },
   "file_extension": ".py",
   "mimetype": "text/x-python",
   "name": "python",
   "nbconvert_exporter": "python",
   "pygments_lexer": "ipython3",
   "version": "3.11.12"
  }
 },
 "nbformat": 4,
 "nbformat_minor": 4
}
