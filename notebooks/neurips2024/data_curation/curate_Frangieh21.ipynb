{
 "cells": [
  {
   "cell_type": "code",
   "execution_count": 1,
   "metadata": {},
   "outputs": [],
   "source": [
    "import scanpy as sc\n",
    "import numpy as np\n",
    "import os\n",
    "import subprocess as sp\n",
    "from scipy.sparse import csr_matrix\n",
    "\n",
    "%load_ext autoreload\n",
    "%autoreload 2"
   ]
  },
  {
   "cell_type": "code",
   "execution_count": null,
   "metadata": {},
   "outputs": [],
   "source": [
    "data_url = 'https://zenodo.org/records/7041849/files/FrangiehIzar2021_RNA.h5ad?download=1'\n",
    "data_cache_dir = '../perturbench_data' ## Change this to your local data directory\n",
    "\n",
    "if not os.path.exists(data_cache_dir):\n",
    "    os.makedirs(data_cache_dir)\n",
    "\n",
    "tmp_data_dir = f'{data_cache_dir}/frangieh21_downloaded.h5ad'\n",
    "\n",
    "if not os.path.exists(tmp_data_dir):\n",
    "    sp.call(f'wget {data_url} -O {tmp_data_dir}', shell=True)"
   ]
  },
  {
   "cell_type": "code",
   "execution_count": 3,
   "metadata": {},
   "outputs": [
    {
     "data": {
      "text/plain": [
       "AnnData object with n_obs × n_vars = 218331 × 23712\n",
       "    obs: 'library_preparation_protocol', 'perturbation_2', 'MOI', 'sgRNA', 'UMI_count', 'guide_id', 'umap_x', 'umap_y', 'perturbation', 'tissue_type', 'cancer', 'disease', 'perturbation_type', 'celltype', 'organism', 'perturbation_type_2', 'nperts', 'ngenes', 'ncounts', 'percent_mito', 'percent_ribo'\n",
       "    var: 'ensembl_id', 'ncounts', 'ncells'"
      ]
     },
     "execution_count": 3,
     "metadata": {},
     "output_type": "execute_result"
    }
   ],
   "source": [
    "adata = sc.read_h5ad(tmp_data_dir)\n",
    "adata"
   ]
  },
  {
   "cell_type": "code",
   "execution_count": 4,
   "metadata": {},
   "outputs": [
    {
     "data": {
      "text/plain": [
       "celltype\n",
       "melanocytes    218331\n",
       "Name: count, dtype: int64"
      ]
     },
     "execution_count": 4,
     "metadata": {},
     "output_type": "execute_result"
    }
   ],
   "source": [
    "adata.obs.celltype.value_counts()"
   ]
  },
  {
   "cell_type": "code",
   "execution_count": 5,
   "metadata": {},
   "outputs": [],
   "source": [
    "adata.obs['cell_type'] = 'melanocyte'"
   ]
  },
  {
   "cell_type": "code",
   "execution_count": 6,
   "metadata": {},
   "outputs": [
    {
     "data": {
      "text/plain": [
       "perturbation_2\n",
       "IFNγ          87590\n",
       "Co-culture    73114\n",
       "Control       57627\n",
       "Name: count, dtype: int64"
      ]
     },
     "execution_count": 6,
     "metadata": {},
     "output_type": "execute_result"
    }
   ],
   "source": [
    "adata.obs.perturbation_2.value_counts()"
   ]
  },
  {
   "cell_type": "code",
   "execution_count": 7,
   "metadata": {},
   "outputs": [
    {
     "data": {
      "text/plain": [
       "treatment\n",
       "IFNγ          87590\n",
       "co-culture    73114\n",
       "none          57627\n",
       "Name: count, dtype: int64"
      ]
     },
     "execution_count": 7,
     "metadata": {},
     "output_type": "execute_result"
    }
   ],
   "source": [
    "treatment_map = {\n",
    "    'Co-culture': 'co-culture',\n",
    "    'Control': 'none',\n",
    "}\n",
    "\n",
    "adata.obs['treatment'] = [treatment_map[x] if x in treatment_map else x for x in adata.obs.perturbation_2]\n",
    "adata.obs.treatment.value_counts()"
   ]
  },
  {
   "cell_type": "code",
   "execution_count": 8,
   "metadata": {},
   "outputs": [
    {
     "data": {
      "text/plain": [
       "perturbation\n",
       "control    57605\n",
       "ACTA2       1458\n",
       "B2M         1379\n",
       "A2M         1331\n",
       "AEBP1       1302\n",
       "           ...  \n",
       "SNRPF         37\n",
       "RACK1         36\n",
       "PSMA7         28\n",
       "UBL5          18\n",
       "TUBB          12\n",
       "Name: count, Length: 249, dtype: int64"
      ]
     },
     "execution_count": 8,
     "metadata": {},
     "output_type": "execute_result"
    }
   ],
   "source": [
    "adata.obs.perturbation.value_counts()"
   ]
  },
  {
   "cell_type": "code",
   "execution_count": 9,
   "metadata": {},
   "outputs": [],
   "source": [
    "adata.obs['condition'] = adata.obs.perturbation.copy()\n",
    "adata.obs['perturbation_type'] = 'CRISPRi'\n",
    "adata.obs['dataset'] = 'frangieh21'"
   ]
  },
  {
   "cell_type": "code",
   "execution_count": 10,
   "metadata": {},
   "outputs": [],
   "source": [
    "required_cols = [\n",
    "    'condition',\n",
    "    'cell_type',\n",
    "    'treatment',\n",
    "    'perturbation_type',\n",
    "    'dataset',\n",
    "    'ngenes',\n",
    "    'ncounts',\n",
    "]\n",
    "\n",
    "for col in required_cols:\n",
    "    assert col in adata.obs.columns\n",
    "    if np.any(adata.obs[col].isnull()):\n",
    "        print(col)\n",
    "    if np.any(adata.obs[col].isna()):\n",
    "        print(col)"
   ]
  },
  {
   "cell_type": "code",
   "execution_count": 11,
   "metadata": {},
   "outputs": [
    {
     "data": {
      "text/html": [
       "<div>\n",
       "<style scoped>\n",
       "    .dataframe tbody tr th:only-of-type {\n",
       "        vertical-align: middle;\n",
       "    }\n",
       "\n",
       "    .dataframe tbody tr th {\n",
       "        vertical-align: top;\n",
       "    }\n",
       "\n",
       "    .dataframe thead th {\n",
       "        text-align: right;\n",
       "    }\n",
       "</style>\n",
       "<table border=\"1\" class=\"dataframe\">\n",
       "  <thead>\n",
       "    <tr style=\"text-align: right;\">\n",
       "      <th></th>\n",
       "      <th>ensembl_id</th>\n",
       "      <th>ncounts</th>\n",
       "      <th>ncells</th>\n",
       "    </tr>\n",
       "    <tr>\n",
       "      <th>gene_symbol</th>\n",
       "      <th></th>\n",
       "      <th></th>\n",
       "      <th></th>\n",
       "    </tr>\n",
       "  </thead>\n",
       "  <tbody>\n",
       "    <tr>\n",
       "      <th>A1BG</th>\n",
       "      <td>ENSG00000121410</td>\n",
       "      <td>41265.0</td>\n",
       "      <td>34705</td>\n",
       "    </tr>\n",
       "    <tr>\n",
       "      <th>A1BG-AS1</th>\n",
       "      <td>ENSG00000268895</td>\n",
       "      <td>13133.0</td>\n",
       "      <td>12463</td>\n",
       "    </tr>\n",
       "    <tr>\n",
       "      <th>A1CF</th>\n",
       "      <td>ENSG00000148584</td>\n",
       "      <td>114.0</td>\n",
       "      <td>114</td>\n",
       "    </tr>\n",
       "    <tr>\n",
       "      <th>A2M</th>\n",
       "      <td>ENSG00000175899</td>\n",
       "      <td>219.0</td>\n",
       "      <td>193</td>\n",
       "    </tr>\n",
       "    <tr>\n",
       "      <th>A2M-AS1</th>\n",
       "      <td>ENSG00000245105</td>\n",
       "      <td>62.0</td>\n",
       "      <td>62</td>\n",
       "    </tr>\n",
       "  </tbody>\n",
       "</table>\n",
       "</div>"
      ],
      "text/plain": [
       "                  ensembl_id  ncounts  ncells\n",
       "gene_symbol                                  \n",
       "A1BG         ENSG00000121410  41265.0   34705\n",
       "A1BG-AS1     ENSG00000268895  13133.0   12463\n",
       "A1CF         ENSG00000148584    114.0     114\n",
       "A2M          ENSG00000175899    219.0     193\n",
       "A2M-AS1      ENSG00000245105     62.0      62"
      ]
     },
     "execution_count": 11,
     "metadata": {},
     "output_type": "execute_result"
    }
   ],
   "source": [
    "adata.var.head()"
   ]
  },
  {
   "cell_type": "code",
   "execution_count": 12,
   "metadata": {},
   "outputs": [],
   "source": [
    "adata.X = csr_matrix(adata.X)"
   ]
  },
  {
   "cell_type": "code",
   "execution_count": 13,
   "metadata": {},
   "outputs": [],
   "source": [
    "adata.write_h5ad(f'{data_cache_dir}/frangieh21_processed.h5ad')"
   ]
  }
 ],
 "metadata": {
  "kernelspec": {
   "display_name": "prime-env",
   "language": "python",
   "name": "python3"
  },
  "language_info": {
   "codemirror_mode": {
    "name": "ipython",
    "version": 3
   },
   "file_extension": ".py",
   "mimetype": "text/x-python",
   "name": "python",
   "nbconvert_exporter": "python",
   "pygments_lexer": "ipython3",
   "version": "3.11.9"
  }
 },
 "nbformat": 4,
 "nbformat_minor": 4
}
