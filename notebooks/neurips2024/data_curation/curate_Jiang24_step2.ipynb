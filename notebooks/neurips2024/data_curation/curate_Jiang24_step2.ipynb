{
 "cells": [
  {
   "cell_type": "code",
   "execution_count": 10,
   "metadata": {},
   "outputs": [
    {
     "name": "stdout",
     "output_type": "stream",
     "text": [
      "The autoreload extension is already loaded. To reload it, use:\n",
      "  %reload_ext autoreload\n"
     ]
    }
   ],
   "source": [
    "import scanpy as sc\n",
    "import pandas as pd\n",
    "import numpy as np\n",
    "import matplotlib.pyplot as plt\n",
    "import anndata as ad\n",
    "import gc\n",
    "from perturbench.analysis.preprocess import preprocess\n",
    "\n",
    "%load_ext autoreload\n",
    "%autoreload 2"
   ]
  },
  {
   "cell_type": "code",
   "execution_count": 11,
   "metadata": {},
   "outputs": [],
   "source": [
    "data_directory = '../perturbench_data/'"
   ]
  },
  {
   "cell_type": "code",
   "execution_count": null,
   "metadata": {},
   "outputs": [],
   "source": [
    "adata_paths = [\n",
    "    'Seurat_object_IFNB_Perturb_seq.h5ad',\n",
    "    'Seurat_object_IFNG_Perturb_seq.h5ad',\n",
    "    'Seurat_object_INS_Perturb_seq.h5ad',\n",
    "    'Seurat_object_TGFB_Perturb_seq.h5ad',\n",
    "    'Seurat_object_TNFA_Perturb_seq.h5ad',\n",
    "]\n",
    "adata_paths = [data_directory + path for path in adata_paths]"
   ]
  },
  {
   "cell_type": "code",
   "execution_count": null,
   "metadata": {},
   "outputs": [],
   "source": [
    "adata_list = []\n",
    "for adata_path in adata_paths:\n",
    "    adata = sc.read_h5ad(adata_path)\n",
    "    adata.X = adata.raw.X.copy()\n",
    "    adata.raw = None\n",
    "\n",
    "    adata.obs.cell_type = [x.lower() for x in adata.obs.cell_type]\n",
    "    adata.obs.cell_type.value_counts()\n",
    "\n",
    "    adata.obs['treatment'] = adata_path.split('/')[-1].split('_')[2]\n",
    "    adata.obs.treatment.value_counts()\n",
    "\n",
    "    condition_remap = {\n",
    "        'NT': 'control',\n",
    "    }\n",
    "    adata.obs['condition'] = adata.obs.gene.copy()\n",
    "    adata.obs.condition = [condition_remap.get(x, x) for x in adata.obs.condition]\n",
    "    adata.obs['condition'] = adata.obs.condition.astype('category')\n",
    "    adata.obs['perturbation'] = adata.obs.condition.copy()\n",
    "\n",
    "    adata.obs['ncounts'] = adata.obs['nCount_RNA'].copy()\n",
    "    adata.obs['ngenes'] = adata.obs['nFeature_RNA'].copy()\n",
    "    adata.obs['perturbation_type'] = 'CRISPRi'\n",
    "    \n",
    "    adata_list.append(adata)\n",
    "    del adata\n",
    "    gc.collect()"
   ]
  },
  {
   "cell_type": "code",
   "execution_count": null,
   "metadata": {},
   "outputs": [],
   "source": [
    "adata_merged = ad.concat(adata_list)\n",
    "adata_merged.obs_names_make_unique()\n",
    "\n",
    "del adata_list\n",
    "gc.collect()\n",
    "\n",
    "adata_merged"
   ]
  },
  {
   "cell_type": "code",
   "execution_count": null,
   "metadata": {},
   "outputs": [],
   "source": [
    "adata_merged.obs['dataset'] = 'jiang24'"
   ]
  },
  {
   "cell_type": "code",
   "execution_count": null,
   "metadata": {},
   "outputs": [],
   "source": [
    "required_cols = [\n",
    "    'condition',\n",
    "    'cell_type',\n",
    "    'treatment',\n",
    "    'perturbation_type',\n",
    "    'dataset',\n",
    "    'ngenes',\n",
    "    'ncounts',\n",
    "]\n",
    "\n",
    "for col in required_cols:\n",
    "    assert col in adata_merged.obs.columns\n",
    "    if np.any(adata_merged.obs[col].isnull()):\n",
    "        print(col)\n",
    "    if np.any(adata_merged.obs[col].isna()):\n",
    "        print(col)"
   ]
  },
  {
   "cell_type": "code",
   "execution_count": null,
   "metadata": {},
   "outputs": [
    {
     "data": {
      "text/plain": [
       "condition\n",
       "control    84269\n",
       "IRF1       30300\n",
       "MYC        24952\n",
       "ELK1       23425\n",
       "JUN        23145\n",
       "           ...  \n",
       "PPARG        844\n",
       "SKP1         787\n",
       "MCRS1        713\n",
       "SMARCE1      689\n",
       "SOX2         329\n",
       "Name: count, Length: 219, dtype: int64"
      ]
     },
     "execution_count": 8,
     "metadata": {},
     "output_type": "execute_result"
    }
   ],
   "source": [
    "adata_merged.obs.condition.value_counts()"
   ]
  },
  {
   "cell_type": "code",
   "execution_count": null,
   "metadata": {},
   "outputs": [
    {
     "name": "stdout",
     "output_type": "stream",
     "text": [
      "Preprocessing ...\n",
      "Filtering for highly variable genes or differentially expressed genes ...\n",
      "Processed dataset summary:\n",
      "View of AnnData object with n_obs × n_vars = 1628476 × 15476\n",
      "    obs: 'orig.ident', 'nCount_RNA', 'nFeature_RNA', 'sample', 'bc1_well', 'bc2_well', 'bc3_well', 'percent.mito', 'cell_type', 'pathway', 'sample_ID', 'Batch_info', 'guide', 'gene', 'mixscale_score', 'treatment', 'condition', 'perturbation', 'ncounts', 'ngenes', 'perturbation_type', 'dataset', 'cov_merged', 'n_genes_by_counts', 'log1p_n_genes_by_counts', 'total_counts', 'log1p_total_counts', 'pct_counts_in_top_50_genes', 'pct_counts_in_top_100_genes', 'pct_counts_in_top_200_genes', 'pct_counts_in_top_500_genes'\n",
      "    var: 'n_cells', 'n_cells_by_counts', 'mean_counts', 'log1p_mean_counts', 'pct_dropout_by_counts', 'total_counts', 'log1p_total_counts', 'highly_variable', 'highly_variable_rank', 'means', 'variances', 'variances_norm', 'highly_variable_nbatches'\n",
      "    uns: 'log1p', 'hvg', 'rank_genes_groups_cov'\n",
      "    layers: 'counts'\n"
     ]
    },
    {
     "data": {
      "text/plain": [
       "View of AnnData object with n_obs × n_vars = 1628476 × 15476\n",
       "    obs: 'orig.ident', 'nCount_RNA', 'nFeature_RNA', 'sample', 'bc1_well', 'bc2_well', 'bc3_well', 'percent.mito', 'cell_type', 'pathway', 'sample_ID', 'Batch_info', 'guide', 'gene', 'mixscale_score', 'treatment', 'condition', 'perturbation', 'ncounts', 'ngenes', 'perturbation_type', 'dataset', 'cov_merged', 'n_genes_by_counts', 'log1p_n_genes_by_counts', 'total_counts', 'log1p_total_counts', 'pct_counts_in_top_50_genes', 'pct_counts_in_top_100_genes', 'pct_counts_in_top_200_genes', 'pct_counts_in_top_500_genes'\n",
       "    var: 'n_cells', 'n_cells_by_counts', 'mean_counts', 'log1p_mean_counts', 'pct_dropout_by_counts', 'total_counts', 'log1p_total_counts', 'highly_variable', 'highly_variable_rank', 'means', 'variances', 'variances_norm', 'highly_variable_nbatches'\n",
       "    uns: 'log1p', 'hvg', 'rank_genes_groups_cov'\n",
       "    layers: 'counts'"
      ]
     },
     "execution_count": 9,
     "metadata": {},
     "output_type": "execute_result"
    }
   ],
   "source": [
    "adata_merged = preprocess(\n",
    "    adata_merged,\n",
    "    perturbation_key='condition',\n",
    "    covariate_keys=['cell_type', 'treatment'],\n",
    ")\n",
    "adata_merged"
   ]
  },
  {
   "cell_type": "code",
   "execution_count": null,
   "metadata": {},
   "outputs": [],
   "source": [
    "adata_merged.write_h5ad(data_directory + 'jiang24_processed.h5ad')"
   ]
  }
 ],
 "metadata": {
  "kernelspec": {
   "display_name": "prime-env",
   "language": "python",
   "name": "python3"
  },
  "language_info": {
   "codemirror_mode": {
    "name": "ipython",
    "version": 3
   },
   "file_extension": ".py",
   "mimetype": "text/x-python",
   "name": "python",
   "nbconvert_exporter": "python",
   "pygments_lexer": "ipython3",
   "version": "3.11.9"
  }
 },
 "nbformat": 4,
 "nbformat_minor": 4
}
