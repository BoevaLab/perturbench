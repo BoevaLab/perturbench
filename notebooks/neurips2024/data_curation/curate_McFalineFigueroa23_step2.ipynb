{
 "cells": [
  {
   "cell_type": "markdown",
   "metadata": {},
   "source": [
    "# 2023-07-26-Curation: McFaline-Figuroa23"
   ]
  },
  {
   "cell_type": "markdown",
   "metadata": {},
   "source": [
    "PerturbSeq screen of interactions between chemical and genetic perturbations"
   ]
  },
  {
   "cell_type": "code",
   "execution_count": 1,
   "metadata": {
    "tags": []
   },
   "outputs": [],
   "source": [
    "import scanpy as sc\n",
    "import numpy as np\n",
    "import anndata as ad\n",
    "import gc\n",
    "from scipy.sparse import csr_matrix\n",
    "\n",
    "from perturbench.analysis.utils import get_ensembl_mappings\n",
    "from perturbench.analysis.preprocess import preprocess\n",
    "\n",
    "%load_ext autoreload\n",
    "%autoreload 2"
   ]
  },
  {
   "cell_type": "markdown",
   "metadata": {},
   "source": [
    "Get gene names from ENSEMBL IDs"
   ]
  },
  {
   "cell_type": "code",
   "execution_count": 3,
   "metadata": {},
   "outputs": [],
   "source": [
    "id_to_gene = get_ensembl_mappings()\n",
    "id_to_gene = {k:v for k,v in id_to_gene.items() if isinstance(v, str) and v != ''}\n",
    "len(id_to_gene.keys())"
   ]
  },
  {
   "cell_type": "markdown",
   "metadata": {},
   "source": [
    "## Load data"
   ]
  },
  {
   "cell_type": "code",
   "execution_count": null,
   "metadata": {},
   "outputs": [],
   "source": [
    "data_cache_dir = '../perturbench_data'"
   ]
  },
  {
   "cell_type": "code",
   "execution_count": 4,
   "metadata": {},
   "outputs": [],
   "source": [
    "data_paths = [\n",
    "    f'{data_cache_dir}/gxe1.h5ad',\n",
    "    f'{data_cache_dir}/gxe2_A172.h5ad',\n",
    "    f'{data_cache_dir}/gxe2_T98G.h5ad',\n",
    "    f'{data_cache_dir}/gxe2_U87MG.h5ad',\n",
    "]"
   ]
  },
  {
   "cell_type": "code",
   "execution_count": null,
   "metadata": {},
   "outputs": [],
   "source": [
    "adata_list = []\n",
    "for path in data_paths:\n",
    "    adata_list.append(sc.read_h5ad(path))\n",
    "adata = ad.concat(adata_list)\n",
    "adata"
   ]
  },
  {
   "cell_type": "code",
   "execution_count": null,
   "metadata": {},
   "outputs": [],
   "source": [
    "adata.X = csr_matrix(adata.X)"
   ]
  },
  {
   "cell_type": "code",
   "execution_count": 6,
   "metadata": {},
   "outputs": [],
   "source": [
    "adata.obs_names_make_unique()"
   ]
  },
  {
   "cell_type": "code",
   "execution_count": 7,
   "metadata": {},
   "outputs": [
    {
     "data": {
      "text/plain": [
       "608"
      ]
     },
     "execution_count": 7,
     "metadata": {},
     "output_type": "execute_result"
    }
   ],
   "source": [
    "del adata_list\n",
    "gc.collect()"
   ]
  },
  {
   "cell_type": "code",
   "execution_count": 8,
   "metadata": {},
   "outputs": [
    {
     "data": {
      "text/plain": [
       "dose\n",
       "1.0      405444\n",
       "10.0     389067\n",
       "0.0      202315\n",
       "0.1        3360\n",
       "0.5        3048\n",
       "5.0        2177\n",
       "50.0       1301\n",
       "100.0      1172\n",
       "Name: count, dtype: int64"
      ]
     },
     "execution_count": 8,
     "metadata": {},
     "output_type": "execute_result"
    }
   ],
   "source": [
    "adata.obs.dose.value_counts()"
   ]
  },
  {
   "cell_type": "code",
   "execution_count": 9,
   "metadata": {},
   "outputs": [],
   "source": [
    "adata.obs['drug_dose'] = adata.obs.dose.copy()"
   ]
  },
  {
   "cell_type": "code",
   "execution_count": 10,
   "metadata": {},
   "outputs": [
    {
     "data": {
      "text/plain": [
       "cell_type\n",
       "a172     353673\n",
       "u87mg    328756\n",
       "t98g     325455\n",
       "Name: count, dtype: int64"
      ]
     },
     "execution_count": 10,
     "metadata": {},
     "output_type": "execute_result"
    }
   ],
   "source": [
    "adata.obs.cell_type = [x.lower() for x in adata.obs.cell_type]\n",
    "adata.obs.cell_type = adata.obs.cell_type.astype('category')\n",
    "adata.obs.cell_type.value_counts()"
   ]
  },
  {
   "cell_type": "code",
   "execution_count": 11,
   "metadata": {},
   "outputs": [
    {
     "data": {
      "text/plain": [
       "treatment\n",
       "lapatinib       297934\n",
       "nintedanib      207303\n",
       "vehicle         199200\n",
       "zstk474         168355\n",
       "trametinib      116507\n",
       "thioguanine       7766\n",
       "temozolomide      7704\n",
       "dmso              3115\n",
       "Name: count, dtype: int64"
      ]
     },
     "execution_count": 11,
     "metadata": {},
     "output_type": "execute_result"
    }
   ],
   "source": [
    "adata.obs.treatment.value_counts()"
   ]
  },
  {
   "cell_type": "code",
   "execution_count": 12,
   "metadata": {},
   "outputs": [
    {
     "data": {
      "text/plain": [
       "gene_id\n",
       "NA                   190904\n",
       "NTC                   12556\n",
       "HPRT1                  7588\n",
       "random                 6672\n",
       "SGK3                   2854\n",
       "                      ...  \n",
       "GRK5,PKN2                 1\n",
       "PRKCG,SCYL2               1\n",
       "ERBB3,STK39               1\n",
       "ERBB3,MARK4,PLK2          1\n",
       "HUNK,MAP3K11,MELK         1\n",
       "Name: count, Length: 83474, dtype: int64"
      ]
     },
     "execution_count": 12,
     "metadata": {},
     "output_type": "execute_result"
    }
   ],
   "source": [
    "adata.obs.gene_id.value_counts()"
   ]
  },
  {
   "cell_type": "markdown",
   "metadata": {},
   "source": [
    "## Rename metadata columns"
   ]
  },
  {
   "cell_type": "code",
   "execution_count": 13,
   "metadata": {},
   "outputs": [],
   "source": [
    "adata.obs.rename(columns = {\n",
    "    'nCount_RNA': 'ncounts',\n",
    "    'nFeature_RNA': 'ngenes',\n",
    "}, inplace=True)\n",
    "adata.obs['perturbation_type'] = 'CRISPRi'\n",
    "adata.obs['dataset'] = 'mcfaline23'"
   ]
  },
  {
   "cell_type": "markdown",
   "metadata": {},
   "source": [
    "## Rename perturbations"
   ]
  },
  {
   "cell_type": "code",
   "execution_count": 14,
   "metadata": {},
   "outputs": [
    {
     "data": {
      "text/plain": [
       "gene_id\n",
       "control             210132\n",
       "HPRT1                 7588\n",
       "SGK3                  2854\n",
       "MARK3                 2732\n",
       "PRKD2                 2686\n",
       "                     ...  \n",
       "CDC42BPG+ERBB3           1\n",
       "SGK1+TIE1                1\n",
       "PLK2+PRKCB               1\n",
       "ACVR1+BRAF+EPHA7         1\n",
       "BRSK1+EGFR               1\n",
       "Name: count, Length: 83067, dtype: int64"
      ]
     },
     "execution_count": 14,
     "metadata": {},
     "output_type": "execute_result"
    }
   ],
   "source": [
    "adata.obs['gene_id'] = [x.replace(',', '+') for x in adata.obs.gene_id]\n",
    "\n",
    "gene_controls = ['NA', 'NTC', 'random']\n",
    "for ctrl in gene_controls:\n",
    "    adata.obs['gene_id'] = [x.replace(ctrl, 'control') for x in adata.obs['gene_id']]\n",
    "adata.obs.gene_id.value_counts()"
   ]
  },
  {
   "cell_type": "code",
   "execution_count": 15,
   "metadata": {},
   "outputs": [
    {
     "data": {
      "text/plain": [
       "View of AnnData object with n_obs × n_vars = 894285 × 58347\n",
       "    obs: 'orig.ident', 'ncounts', 'ngenes', 'cell', 'sample', 'Size_Factor', 'n.umi', 'PCR_plate', 'new_cell', 'dose', 'treatment', 'gRNA_id', 'gene_id', 'guide_number', 'cell_type', 'drug_dose', 'perturbation_type', 'dataset'"
      ]
     },
     "execution_count": 15,
     "metadata": {},
     "output_type": "execute_result"
    }
   ],
   "source": [
    "single_gene_perts = [x for x in adata.obs.gene_id.unique() if '+' not in x]\n",
    "adata = adata[adata.obs.gene_id.isin(single_gene_perts),:]\n",
    "adata"
   ]
  },
  {
   "cell_type": "code",
   "execution_count": 16,
   "metadata": {},
   "outputs": [
    {
     "name": "stderr",
     "output_type": "stream",
     "text": [
      "/tmp/ipykernel_746/3004492446.py:3: ImplicitModificationWarning: Trying to modify attribute `.obs` of view, initializing view as actual.\n",
      "  adata.obs['treatment'] = [x.replace(ctrl, 'none') for x in adata.obs['treatment']]\n"
     ]
    },
    {
     "data": {
      "text/plain": [
       "treatment\n",
       "lapatinib       265013\n",
       "nintedanib      184054\n",
       "none            179486\n",
       "zstk474         148358\n",
       "trametinib      102774\n",
       "thioguanine       7378\n",
       "temozolomide      7222\n",
       "Name: count, dtype: int64"
      ]
     },
     "execution_count": 16,
     "metadata": {},
     "output_type": "execute_result"
    }
   ],
   "source": [
    "drug_controls = ['vehicle', 'dmso']\n",
    "for ctrl in drug_controls:\n",
    "    adata.obs['treatment'] = [x.replace(ctrl, 'none') for x in adata.obs['treatment']]\n",
    "adata.obs.treatment.value_counts()"
   ]
  },
  {
   "cell_type": "code",
   "execution_count": 18,
   "metadata": {},
   "outputs": [
    {
     "data": {
      "text/plain": [
       "gene_dose\n",
       "1    894285\n",
       "Name: count, dtype: int64"
      ]
     },
     "execution_count": 18,
     "metadata": {},
     "output_type": "execute_result"
    }
   ],
   "source": [
    "gene_dose = []\n",
    "for gene in adata.obs.gene_id:\n",
    "    ngenes = len(gene.split('+'))\n",
    "    dose = '+'.join(['1']*ngenes)\n",
    "    gene_dose.append(dose)\n",
    "    \n",
    "adata.obs['gene_dose'] = gene_dose\n",
    "adata.obs.gene_dose.value_counts()"
   ]
  },
  {
   "cell_type": "code",
   "execution_count": 19,
   "metadata": {},
   "outputs": [
    {
     "data": {
      "text/plain": [
       "perturbation\n",
       "control    210132\n",
       "HPRT1        7588\n",
       "SGK3         2854\n",
       "MARK3        2732\n",
       "PRKD2        2686\n",
       "            ...  \n",
       "RIOK2         223\n",
       "TTK           212\n",
       "PLK1          186\n",
       "BUB1B         179\n",
       "AURKB          89\n",
       "Name: count, Length: 530, dtype: int64"
      ]
     },
     "execution_count": 19,
     "metadata": {},
     "output_type": "execute_result"
    }
   ],
   "source": [
    "adata.obs['perturbation'] = adata.obs.gene_id.astype('category').copy()\n",
    "adata.obs.perturbation.value_counts()"
   ]
  },
  {
   "cell_type": "code",
   "execution_count": 20,
   "metadata": {},
   "outputs": [
    {
     "name": "stdout",
     "output_type": "stream",
     "text": [
      "7745\n"
     ]
    }
   ],
   "source": [
    "adata.obs['pert_cl_tr'] = adata.obs['perturbation'].astype(str) + '_' + adata.obs['cell_type'].astype(str) + '_' + adata.obs['treatment'].astype(str)\n",
    "pert_cl_tr_counts = adata.obs.pert_cl_tr.value_counts()\n",
    "pert_cl_tr_keep = list(pert_cl_tr_counts.loc[pert_cl_tr_counts >= 20].index)\n",
    "print(len(pert_cl_tr_keep))"
   ]
  },
  {
   "cell_type": "code",
   "execution_count": 21,
   "metadata": {},
   "outputs": [
    {
     "data": {
      "text/plain": [
       "(894285, 58347)"
      ]
     },
     "execution_count": 21,
     "metadata": {},
     "output_type": "execute_result"
    }
   ],
   "source": [
    "adata.shape"
   ]
  },
  {
   "cell_type": "code",
   "execution_count": 22,
   "metadata": {},
   "outputs": [
    {
     "data": {
      "text/plain": [
       "(892800, 58347)"
      ]
     },
     "execution_count": 22,
     "metadata": {},
     "output_type": "execute_result"
    }
   ],
   "source": [
    "adata = adata[adata.obs.pert_cl_tr.isin(pert_cl_tr_keep)]\n",
    "adata.shape"
   ]
  },
  {
   "cell_type": "code",
   "execution_count": 26,
   "metadata": {},
   "outputs": [
    {
     "name": "stderr",
     "output_type": "stream",
     "text": [
      "/tmp/ipykernel_746/3323333278.py:1: ImplicitModificationWarning: Trying to modify attribute `.obs` of view, initializing view as actual.\n",
      "  adata.obs['condition'] = adata.obs['perturbation'].copy()\n"
     ]
    }
   ],
   "source": [
    "adata.obs['condition'] = adata.obs['perturbation'].copy()\n",
    "adata.obs.condition = adata.obs.condition.astype('category')\n",
    "adata.obs.perturbation = adata.obs.perturbation.astype('category')"
   ]
  },
  {
   "cell_type": "code",
   "execution_count": 27,
   "metadata": {},
   "outputs": [
    {
     "data": {
      "text/plain": [
       "AnnData object with n_obs × n_vars = 892800 × 58347\n",
       "    obs: 'orig.ident', 'ncounts', 'ngenes', 'cell', 'sample', 'Size_Factor', 'n.umi', 'PCR_plate', 'new_cell', 'dose', 'treatment', 'gRNA_id', 'gene_id', 'guide_number', 'cell_type', 'drug_dose', 'perturbation_type', 'dataset', 'gene_dose', 'perturbation', 'pert_cl_tr', 'condition'"
      ]
     },
     "execution_count": 27,
     "metadata": {},
     "output_type": "execute_result"
    }
   ],
   "source": [
    "adata"
   ]
  },
  {
   "cell_type": "code",
   "execution_count": 29,
   "metadata": {},
   "outputs": [
    {
     "data": {
      "text/plain": [
       "(892800, 57598)"
      ]
     },
     "execution_count": 29,
     "metadata": {},
     "output_type": "execute_result"
    }
   ],
   "source": [
    "adata.var['gene_id'] = [x.split('.')[0] for x in adata.var_names]\n",
    "adata = adata[:,[x in id_to_gene for x in adata.var['gene_id']]]\n",
    "adata.shape"
   ]
  },
  {
   "cell_type": "code",
   "execution_count": 30,
   "metadata": {},
   "outputs": [
    {
     "name": "stderr",
     "output_type": "stream",
     "text": [
      "/tmp/ipykernel_746/344033394.py:1: ImplicitModificationWarning: Trying to modify attribute `.var` of view, initializing view as actual.\n",
      "  adata.var['gene_name'] = [str(id_to_gene[x]) for x in adata.var['gene_id']]\n"
     ]
    },
    {
     "data": {
      "text/plain": [
       "(892800, 57598)"
      ]
     },
     "execution_count": 30,
     "metadata": {},
     "output_type": "execute_result"
    }
   ],
   "source": [
    "adata.var['gene_name'] = [str(id_to_gene[x]) for x in adata.var['gene_id']]\n",
    "adata = adata[:,[x != '' for x in adata.var['gene_name']]]\n",
    "adata.shape"
   ]
  },
  {
   "cell_type": "code",
   "execution_count": 31,
   "metadata": {
    "editable": true,
    "slideshow": {
     "slide_type": ""
    },
    "tags": []
   },
   "outputs": [],
   "source": [
    "adata.var_names = adata.var.gene_name.astype(str).copy()"
   ]
  },
  {
   "cell_type": "code",
   "execution_count": 32,
   "metadata": {},
   "outputs": [
    {
     "data": {
      "text/html": [
       "<div>\n",
       "<style scoped>\n",
       "    .dataframe tbody tr th:only-of-type {\n",
       "        vertical-align: middle;\n",
       "    }\n",
       "\n",
       "    .dataframe tbody tr th {\n",
       "        vertical-align: top;\n",
       "    }\n",
       "\n",
       "    .dataframe thead th {\n",
       "        text-align: right;\n",
       "    }\n",
       "</style>\n",
       "<table border=\"1\" class=\"dataframe\">\n",
       "  <thead>\n",
       "    <tr style=\"text-align: right;\">\n",
       "      <th></th>\n",
       "      <th>gene_id</th>\n",
       "      <th>gene_name</th>\n",
       "    </tr>\n",
       "    <tr>\n",
       "      <th>gene_name</th>\n",
       "      <th></th>\n",
       "      <th></th>\n",
       "    </tr>\n",
       "  </thead>\n",
       "  <tbody>\n",
       "    <tr>\n",
       "      <th>TSPAN6</th>\n",
       "      <td>ENSG00000000003</td>\n",
       "      <td>TSPAN6</td>\n",
       "    </tr>\n",
       "    <tr>\n",
       "      <th>TNMD</th>\n",
       "      <td>ENSG00000000005</td>\n",
       "      <td>TNMD</td>\n",
       "    </tr>\n",
       "    <tr>\n",
       "      <th>DPM1</th>\n",
       "      <td>ENSG00000000419</td>\n",
       "      <td>DPM1</td>\n",
       "    </tr>\n",
       "    <tr>\n",
       "      <th>SCYL3</th>\n",
       "      <td>ENSG00000000457</td>\n",
       "      <td>SCYL3</td>\n",
       "    </tr>\n",
       "    <tr>\n",
       "      <th>FIRRM</th>\n",
       "      <td>ENSG00000000460</td>\n",
       "      <td>FIRRM</td>\n",
       "    </tr>\n",
       "  </tbody>\n",
       "</table>\n",
       "</div>"
      ],
      "text/plain": [
       "                   gene_id gene_name\n",
       "gene_name                           \n",
       "TSPAN6     ENSG00000000003    TSPAN6\n",
       "TNMD       ENSG00000000005      TNMD\n",
       "DPM1       ENSG00000000419      DPM1\n",
       "SCYL3      ENSG00000000457     SCYL3\n",
       "FIRRM      ENSG00000000460     FIRRM"
      ]
     },
     "execution_count": 32,
     "metadata": {},
     "output_type": "execute_result"
    }
   ],
   "source": [
    "adata.var.head()"
   ]
  },
  {
   "cell_type": "code",
   "execution_count": 33,
   "metadata": {},
   "outputs": [
    {
     "data": {
      "text/plain": [
       "(892800, 42010)"
      ]
     },
     "execution_count": 33,
     "metadata": {},
     "output_type": "execute_result"
    }
   ],
   "source": [
    "adata = adata[:,['nan' not in x for x in adata.var_names]]\n",
    "adata.shape"
   ]
  },
  {
   "cell_type": "code",
   "execution_count": 34,
   "metadata": {},
   "outputs": [
    {
     "data": {
      "text/plain": [
       "(892800, 40775)"
      ]
     },
     "execution_count": 34,
     "metadata": {},
     "output_type": "execute_result"
    }
   ],
   "source": [
    "duplicated_genes = adata.var.index.duplicated()\n",
    "adata = adata[:,~duplicated_genes]\n",
    "adata.shape"
   ]
  },
  {
   "cell_type": "code",
   "execution_count": 35,
   "metadata": {},
   "outputs": [],
   "source": [
    "required_cols = [\n",
    "    'condition',\n",
    "    'cell_type',\n",
    "    'treatment',\n",
    "    'perturbation_type',\n",
    "    'dataset',\n",
    "    'ngenes',\n",
    "    'ncounts',\n",
    "]\n",
    "\n",
    "for col in required_cols:\n",
    "    assert col in adata.obs.columns\n",
    "    if np.any(adata.obs[col].isnull()):\n",
    "        print(col)\n",
    "    if np.any(adata.obs[col].isna()):\n",
    "        print(col)"
   ]
  },
  {
   "cell_type": "code",
   "execution_count": 38,
   "metadata": {},
   "outputs": [],
   "source": [
    "adata = adata.copy()"
   ]
  },
  {
   "cell_type": "code",
   "execution_count": 39,
   "metadata": {},
   "outputs": [
    {
     "data": {
      "text/plain": [
       "679"
      ]
     },
     "execution_count": 39,
     "metadata": {},
     "output_type": "execute_result"
    }
   ],
   "source": [
    "gc.collect()"
   ]
  },
  {
   "cell_type": "code",
   "execution_count": 5,
   "metadata": {},
   "outputs": [
    {
     "data": {
      "text/plain": [
       "condition_plus_treatment\n",
       "control+lapatinib     61328\n",
       "control+nintedanib    43874\n",
       "control               41614\n",
       "control+zstk474       35229\n",
       "control+trametinib    25190\n",
       "                      ...  \n",
       "TTK                      25\n",
       "TTK+zstk474              24\n",
       "RIOK2+nintedanib         21\n",
       "BUB1B+nintedanib         21\n",
       "MGMT+thioguanine         20\n",
       "Name: count, Length: 2617, dtype: int64"
      ]
     },
     "execution_count": 5,
     "metadata": {},
     "output_type": "execute_result"
    }
   ],
   "source": [
    "condition_plus_treatment = []\n",
    "for condition, treatment in zip(adata.obs.condition, adata.obs.treatment):\n",
    "    if treatment == 'none':\n",
    "        condition_plus_treatment.append(str(condition))\n",
    "    else:\n",
    "        condition_plus_treatment.append(str(condition) + '+' + str(treatment))\n",
    "\n",
    "adata.obs['condition_plus_treatment'] = condition_plus_treatment\n",
    "adata.obs['condition_plus_treatment'] = adata.obs['condition_plus_treatment'].astype('category')\n",
    "adata.obs.condition_plus_treatment.value_counts()"
   ]
  },
  {
   "cell_type": "code",
   "execution_count": 3,
   "metadata": {},
   "outputs": [
    {
     "data": {
      "text/plain": [
       "treatment\n",
       "lapatinib       1563\n",
       "none            1555\n",
       "nintedanib      1551\n",
       "zstk474         1544\n",
       "trametinib      1518\n",
       "temozolomide       8\n",
       "thioguanine        6\n",
       "Name: count, dtype: int64"
      ]
     },
     "execution_count": 3,
     "metadata": {},
     "output_type": "execute_result"
    }
   ],
   "source": [
    "unique_obs = adata.obs.loc[:,['condition', 'cell_type', 'treatment']].drop_duplicates()\n",
    "unique_obs.treatment.value_counts()"
   ]
  },
  {
   "cell_type": "code",
   "execution_count": 5,
   "metadata": {},
   "outputs": [
    {
     "data": {
      "text/plain": [
       "AnnData object with n_obs × n_vars = 878229 × 40775\n",
       "    obs: 'orig.ident', 'ncounts', 'ngenes', 'cell', 'sample', 'Size_Factor', 'n.umi', 'PCR_plate', 'new_cell', 'dose', 'treatment', 'gRNA_id', 'gene_id', 'guide_number', 'cell_type', 'drug_dose', 'perturbation_type', 'dataset', 'gene_dose', 'perturbation', 'pert_cl_tr', 'condition', 'condition_plus_treatment'\n",
       "    var: 'ensembl_id'"
      ]
     },
     "execution_count": 5,
     "metadata": {},
     "output_type": "execute_result"
    }
   ],
   "source": [
    "treatments_remove = [\n",
    "    'temozolomide',\n",
    "    'thioguanine'\n",
    "]\n",
    "\n",
    "adata = adata[~adata.obs.treatment.isin(treatments_remove)].to_memory()\n",
    "adata"
   ]
  },
  {
   "cell_type": "code",
   "execution_count": null,
   "metadata": {},
   "outputs": [
    {
     "name": "stdout",
     "output_type": "stream",
     "text": [
      "Preprocessing ...\n",
      "Filtering for highly variable genes or differentially expressed genes ...\n",
      "WARNING: Default of the method has been changed to 't-test' from 't-test_overestim_var'\n",
      "Processed dataset summary:\n",
      "View of AnnData object with n_obs × n_vars = 111445 × 5666\n",
      "    obs: 'guide_id', 'read_count', 'UMI_count', 'coverage', 'gemgroup', 'good_coverage', 'number_of_cells', 'tissue_type', 'cell_type', 'cancer', 'disease', 'perturbation_type', 'celltype', 'organism', 'perturbation', 'nperts', 'ngenes', 'ncounts', 'percent_mito', 'percent_ribo', 'condition', 'cov_merged', 'n_genes_by_counts', 'log1p_n_genes_by_counts', 'total_counts', 'log1p_total_counts', 'pct_counts_in_top_50_genes', 'pct_counts_in_top_100_genes', 'pct_counts_in_top_200_genes', 'pct_counts_in_top_500_genes'\n",
      "    var: 'ensemble_id', 'ncounts', 'ncells', 'n_cells', 'n_cells_by_counts', 'mean_counts', 'log1p_mean_counts', 'pct_dropout_by_counts', 'total_counts', 'log1p_total_counts', 'highly_variable', 'highly_variable_rank', 'means', 'variances', 'variances_norm', 'highly_variable_nbatches'\n",
      "    uns: 'log1p', 'hvg', 'rank_genes_groups_cov'\n",
      "    layers: 'counts'\n"
     ]
    }
   ],
   "source": [
    "adata = preprocess(\n",
    "    adata,\n",
    "    perturbation_key='condition',\n",
    "    covariate_keys=['cell_type', 'treatment'],\n",
    ")"
   ]
  },
  {
   "cell_type": "code",
   "execution_count": 6,
   "metadata": {
    "tags": []
   },
   "outputs": [],
   "source": [
    "adata.write_h5ad(f'{data_cache_dir}/mcfaline23_gxe_processed.h5ad')"
   ]
  }
 ],
 "metadata": {
  "kernelspec": {
   "display_name": "perturbench-dev",
   "language": "python",
   "name": "python3"
  },
  "language_info": {
   "codemirror_mode": {
    "name": "ipython",
    "version": 3
   },
   "file_extension": ".py",
   "mimetype": "text/x-python",
   "name": "python",
   "nbconvert_exporter": "python",
   "pygments_lexer": "ipython3",
   "version": "3.11.9"
  }
 },
 "nbformat": 4,
 "nbformat_minor": 4
}
