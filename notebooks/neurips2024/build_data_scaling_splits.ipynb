{
 "cells": [
  {
   "cell_type": "markdown",
   "metadata": {},
   "source": [
    "# 2024-04-24-Preprocessing: Generating nested mcfaline23 subsets"
   ]
  },
  {
   "cell_type": "markdown",
   "metadata": {},
   "source": [
    "PerturbSeq screen of interactions between chemical and genetic perturbations"
   ]
  },
  {
   "cell_type": "code",
   "execution_count": 1,
   "metadata": {
    "tags": []
   },
   "outputs": [],
   "source": [
    "import scanpy as sc\n",
    "import pandas as pd\n",
    "import numpy as np\n",
    "import random\n",
    "import os\n",
    "from sklearn.model_selection import train_test_split\n",
    "\n",
    "from perturbench.data.datasplitter import PerturbationDataSplitter\n",
    "\n",
    "%load_ext autoreload\n",
    "%autoreload 2"
   ]
  },
  {
   "cell_type": "markdown",
   "metadata": {},
   "source": [
    "## Load data and generate subsets"
   ]
  },
  {
   "cell_type": "code",
   "execution_count": null,
   "metadata": {},
   "outputs": [],
   "source": [
    "data_cache_dir = './perturbench_data' ## Change this to your local data directory\n",
    "\n",
    "splits_dir = f'{data_cache_dir}/mcfaline23_gxe_splits'\n",
    "if not os.path.exists(splits_dir):\n",
    "    os.makedirs(splits_dir)"
   ]
  },
  {
   "cell_type": "code",
   "execution_count": null,
   "metadata": {
    "tags": []
   },
   "outputs": [],
   "source": [
    "adata = sc.read_h5ad(f'{data_cache_dir}/mcfaline23_gxe_processed.h5ad', backed='r')\n",
    "adata"
   ]
  },
  {
   "cell_type": "markdown",
   "metadata": {},
   "source": [
    "## Scale across covariates"
   ]
  },
  {
   "cell_type": "code",
   "execution_count": 3,
   "metadata": {},
   "outputs": [],
   "source": [
    "adata.obs['cell_type_treat'] = adata.obs['cell_type'].astype(str) + '_' + adata.obs['treatment'].astype(str)"
   ]
  },
  {
   "cell_type": "markdown",
   "metadata": {},
   "source": [
    "### Generate subsets"
   ]
  },
  {
   "cell_type": "code",
   "execution_count": 4,
   "metadata": {},
   "outputs": [
    {
     "data": {
      "text/plain": [
       "15"
      ]
     },
     "execution_count": 4,
     "metadata": {},
     "output_type": "execute_result"
    }
   ],
   "source": [
    "unique_covariates = [x for x in adata.obs.cell_type_treat.unique() if x != 'control']\n",
    "unique_covariates_cell_type = [x.split('_')[0] for x in unique_covariates]\n",
    "len(unique_covariates)"
   ]
  },
  {
   "cell_type": "code",
   "execution_count": 5,
   "metadata": {},
   "outputs": [
    {
     "data": {
      "text/plain": [
       "['a172_none',\n",
       " 'a172_nintedanib',\n",
       " 'a172_zstk474',\n",
       " 'a172_lapatinib',\n",
       " 'a172_trametinib',\n",
       " 't98g_nintedanib',\n",
       " 't98g_lapatinib',\n",
       " 't98g_none',\n",
       " 't98g_trametinib',\n",
       " 't98g_zstk474',\n",
       " 'u87mg_zstk474',\n",
       " 'u87mg_lapatinib',\n",
       " 'u87mg_trametinib',\n",
       " 'u87mg_nintedanib',\n",
       " 'u87mg_none']"
      ]
     },
     "execution_count": 5,
     "metadata": {},
     "output_type": "execute_result"
    }
   ],
   "source": [
    "unique_covariates"
   ]
  },
  {
   "cell_type": "code",
   "execution_count": 6,
   "metadata": {},
   "outputs": [],
   "source": [
    "small_covariates_holdout = [\n",
    "    'a172_nintedanib',\n",
    "    't98g_lapatinib',\n",
    "    'u87mg_none',\n",
    "]\n",
    "small_covariates_train = [\n",
    "    'a172_none',\n",
    "    't98g_nintedanib',\n",
    "    'u87mg_lapatinib',\n",
    "]\n",
    "\n",
    "small_covariates = small_covariates_holdout + small_covariates_train"
   ]
  },
  {
   "cell_type": "markdown",
   "metadata": {},
   "source": [
    "### Generate splits"
   ]
  },
  {
   "cell_type": "markdown",
   "metadata": {},
   "source": [
    "#### Small"
   ]
  },
  {
   "cell_type": "code",
   "execution_count": 7,
   "metadata": {},
   "outputs": [
    {
     "data": {
      "text/plain": [
       "AnnData object with n_obs × n_vars = 407469 × 15009\n",
       "    obs: 'orig.ident', 'ncounts', 'ngenes', 'cell', 'sample', 'Size_Factor', 'n.umi', 'PCR_plate', 'new_cell', 'dose', 'treatment', 'gRNA_id', 'gene_id', 'guide_number', 'cell_type', 'drug_dose', 'perturbation_type', 'dataset', 'gene_dose', 'perturbation', 'pert_cl_tr', 'condition', 'condition_plus_treatment', 'cov_merged', 'n_genes_by_counts', 'log1p_n_genes_by_counts', 'total_counts', 'log1p_total_counts', 'pct_counts_in_top_50_genes', 'pct_counts_in_top_100_genes', 'pct_counts_in_top_200_genes', 'pct_counts_in_top_500_genes', 'control', 'dose_val', 'cov_drug_dose_name', 'cell_type_treat'\n",
       "    var: 'ensembl_id', 'n_cells', 'n_cells_by_counts', 'mean_counts', 'log1p_mean_counts', 'pct_dropout_by_counts', 'total_counts', 'log1p_total_counts', 'highly_variable', 'highly_variable_rank', 'means', 'variances', 'variances_norm', 'highly_variable_nbatches'\n",
       "    uns: 'hvg', 'log1p', 'rank_genes_groups_cov'\n",
       "    layers: 'counts'"
      ]
     },
     "execution_count": 7,
     "metadata": {},
     "output_type": "execute_result"
    }
   ],
   "source": [
    "adata_small = adata[adata.obs.cell_type_treat.isin(small_covariates)].to_memory()\n",
    "adata_small"
   ]
  },
  {
   "cell_type": "code",
   "execution_count": 8,
   "metadata": {},
   "outputs": [
    {
     "data": {
      "text/plain": [
       "528"
      ]
     },
     "execution_count": 8,
     "metadata": {},
     "output_type": "execute_result"
    }
   ],
   "source": [
    "unique_perturbations = [x for x in adata_small.obs.condition.unique() if x!= 'control']\n",
    "len(unique_perturbations)"
   ]
  },
  {
   "cell_type": "code",
   "execution_count": 10,
   "metadata": {},
   "outputs": [
    {
     "data": {
      "text/plain": [
       "(553, 554)"
      ]
     },
     "execution_count": 10,
     "metadata": {},
     "output_type": "execute_result"
    }
   ],
   "source": [
    "rng = np.random.default_rng(12345)\n",
    "\n",
    "control_val_ix = []\n",
    "control_test_ix = []\n",
    "heldout_pert_covs = []\n",
    "for cov in small_covariates_holdout:\n",
    "    random.seed(int(rng.integers(0, 2**16)))\n",
    "    sampled_perts = random.sample(unique_perturbations, int(0.7*len(unique_perturbations)))\n",
    "    heldout_pert_covs += [p + '_' + cov for p in sampled_perts]\n",
    "    \n",
    "    cov_controls = adata_small[\n",
    "        (adata_small.obs.cell_type_treat == cov) & (adata_small.obs.condition == 'control')\n",
    "    ].obs_names.to_list()\n",
    "    cov_controls_heldout = random.sample(cov_controls, int(0.5*len(cov_controls)))\n",
    "    cov_controls_heldout_val, cov_controls_heldout_test = train_test_split(\n",
    "        cov_controls_heldout, test_size=0.5, random_state=int(rng.integers(0, 2**16))\n",
    "    )\n",
    "    control_val_ix += cov_controls_heldout_val\n",
    "    control_test_ix += cov_controls_heldout_test\n",
    "\n",
    "random.seed(int(rng.integers(0, 2**16)))\n",
    "val_pert_covs = random.sample(heldout_pert_covs, int(0.5*len(heldout_pert_covs)))\n",
    "test_pert_covs = [x for x in heldout_pert_covs if x not in val_pert_covs]\n",
    "\n",
    "len(val_pert_covs), len(test_pert_covs)\n"
   ]
  },
  {
   "cell_type": "code",
   "execution_count": 11,
   "metadata": {},
   "outputs": [
    {
     "data": {
      "text/plain": [
       "train    268141\n",
       "val       70300\n",
       "test      69028\n",
       "Name: count, dtype: int64"
      ]
     },
     "execution_count": 11,
     "metadata": {},
     "output_type": "execute_result"
    }
   ],
   "source": [
    "split = pd.Series('train', index=adata_small.obs.index)\n",
    "\n",
    "adata_small.obs['pert_cov'] = adata_small.obs.condition.astype(str) + '_' + adata_small.obs.cell_type_treat.astype(str)\n",
    "val_ix = adata_small[adata_small.obs.pert_cov.isin(val_pert_covs)].obs_names.tolist()\n",
    "test_ix = adata_small[adata_small.obs.pert_cov.isin(test_pert_covs)].obs_names.tolist()\n",
    "\n",
    "split.loc[val_ix + control_val_ix] = 'val'\n",
    "split.loc[test_ix + control_test_ix] = 'test'\n",
    "\n",
    "split.value_counts()"
   ]
  },
  {
   "cell_type": "code",
   "execution_count": 15,
   "metadata": {},
   "outputs": [
    {
     "name": "stdout",
     "output_type": "stream",
     "text": [
      "a172_nintedanib\n",
      "split\n",
      "test     190\n",
      "val      173\n",
      "train    157\n",
      "Name: count, dtype: int64\n",
      "t98g_lapatinib\n",
      "split\n",
      "val      189\n",
      "test     178\n",
      "train    155\n",
      "Name: count, dtype: int64\n",
      "u87mg_none\n",
      "split\n",
      "val      183\n",
      "test     178\n",
      "train    155\n",
      "Name: count, dtype: int64\n",
      "a172_none\n",
      "split\n",
      "train    524\n",
      "Name: count, dtype: int64\n",
      "t98g_nintedanib\n",
      "split\n",
      "train    513\n",
      "Name: count, dtype: int64\n",
      "u87mg_lapatinib\n",
      "split\n",
      "train    521\n",
      "Name: count, dtype: int64\n"
     ]
    }
   ],
   "source": [
    "small_obs = adata_small.obs.copy()\n",
    "small_obs['split'] = split\n",
    "small_obs = small_obs.loc[:,['split', 'condition', 'cell_type_treat']].drop_duplicates()\n",
    "\n",
    "for cov in small_covariates:\n",
    "    print(cov)\n",
    "    cov_obs = small_obs[small_obs.cell_type_treat == cov]\n",
    "    for spl in ['train', 'val', 'test']:\n",
    "        cov_obs_spl = cov_obs.loc[cov_obs.split == spl]\n",
    "        if cov_obs_spl.shape[0] > 0:\n",
    "            assert 'control' in cov_obs_spl.condition.unique()\n",
    "        else:\n",
    "            assert spl != 'train'\n",
    "    \n",
    "    print(cov_obs.split.value_counts())"
   ]
  },
  {
   "cell_type": "code",
   "execution_count": 16,
   "metadata": {},
   "outputs": [
    {
     "name": "stderr",
     "output_type": "stream",
     "text": [
      "/tmp/ipykernel_373335/570441843.py:2: FutureWarning: Setting an item of incompatible dtype is deprecated and will raise an error in a future version of pandas. Value '['train' 'train' 'train' ... 'train' 'train' 'train']' has dtype incompatible with float64, please explicitly cast to a compatible dtype first.\n",
      "  split_padded.loc[split.index] = split\n"
     ]
    },
    {
     "data": {
      "text/plain": [
       "train    268141\n",
       "val       70300\n",
       "test      69028\n",
       "Name: count, dtype: int64"
      ]
     },
     "execution_count": 16,
     "metadata": {},
     "output_type": "execute_result"
    }
   ],
   "source": [
    "split_padded = pd.Series(None, index=adata.obs.index)\n",
    "split_padded.loc[split.index] = split\n",
    "split_padded.value_counts()"
   ]
  },
  {
   "cell_type": "code",
   "execution_count": 17,
   "metadata": {},
   "outputs": [
    {
     "data": {
      "text/plain": [
       "878229"
      ]
     },
     "execution_count": 17,
     "metadata": {},
     "output_type": "execute_result"
    }
   ],
   "source": [
    "len(split_padded)"
   ]
  },
  {
   "cell_type": "code",
   "execution_count": 18,
   "metadata": {},
   "outputs": [],
   "source": [
    "split_padded.to_csv(f'{data_cache_dir}/mcfaline23_gxe_splits/small_covariate_split.csv', header=False)"
   ]
  },
  {
   "cell_type": "markdown",
   "metadata": {},
   "source": [
    "#### Medium"
   ]
  },
  {
   "cell_type": "code",
   "execution_count": 19,
   "metadata": {},
   "outputs": [],
   "source": [
    "medium_covariates = [\n",
    "    'a172_lapatinib',\n",
    "    't98g_none',\n",
    "    'u87mg_nintedanib',\n",
    "] + small_covariates\n",
    "medium_covariates"
   ]
  },
  {
   "cell_type": "code",
   "execution_count": null,
   "metadata": {},
   "outputs": [],
   "source": [
    "adata_medium = adata[adata.obs.cell_type_treat.isin(medium_covariates)]\n",
    "adata_medium"
   ]
  },
  {
   "cell_type": "code",
   "execution_count": null,
   "metadata": {},
   "outputs": [
    {
     "data": {
      "text/plain": [
       "train    514733\n",
       "val       57752\n",
       "test      55544\n",
       "Name: count, dtype: int64"
      ]
     },
     "execution_count": 32,
     "metadata": {},
     "output_type": "execute_result"
    }
   ],
   "source": [
    "medium_split = pd.Series('train', index=adata_medium.obs.index)\n",
    "for split_val in split.unique():\n",
    "    split_idx = split[split == split_val].index\n",
    "    medium_split.loc[split_idx] = split_val\n",
    "medium_split.value_counts()"
   ]
  },
  {
   "cell_type": "code",
   "execution_count": null,
   "metadata": {},
   "outputs": [
    {
     "name": "stderr",
     "output_type": "stream",
     "text": [
      "/tmp/ipykernel_319870/1325350776.py:2: FutureWarning: Setting an item of incompatible dtype is deprecated and will raise an error in a future version of pandas. Value '['train' 'train' 'train' ... 'train' 'train' 'train']' has dtype incompatible with float64, please explicitly cast to a compatible dtype first.\n",
      "  medium_split_padded.loc[medium_split.index] = medium_split\n"
     ]
    },
    {
     "data": {
      "text/plain": [
       "878229"
      ]
     },
     "execution_count": 33,
     "metadata": {},
     "output_type": "execute_result"
    }
   ],
   "source": [
    "medium_split_padded = pd.Series(None, index=adata.obs.index)\n",
    "medium_split_padded.loc[medium_split.index] = medium_split\n",
    "len(medium_split_padded)"
   ]
  },
  {
   "cell_type": "code",
   "execution_count": null,
   "metadata": {},
   "outputs": [],
   "source": [
    "medium_split_padded.to_csv(f'{data_cache_dir}/mcfaline23_gxe_splits/medium_covariate_split.csv', header=False)"
   ]
  },
  {
   "cell_type": "markdown",
   "metadata": {},
   "source": [
    "#### Full"
   ]
  },
  {
   "cell_type": "code",
   "execution_count": null,
   "metadata": {},
   "outputs": [
    {
     "data": {
      "text/plain": [
       "train    764933\n",
       "val       57752\n",
       "test      55544\n",
       "Name: count, dtype: int64"
      ]
     },
     "execution_count": 35,
     "metadata": {},
     "output_type": "execute_result"
    }
   ],
   "source": [
    "full_split = pd.Series('train', index=adata.obs.index)\n",
    "for split_val in split.unique():\n",
    "    split_idx = split[split == split_val].index\n",
    "    full_split.loc[split_idx] = split_val\n",
    "full_split.value_counts()"
   ]
  },
  {
   "cell_type": "code",
   "execution_count": null,
   "metadata": {},
   "outputs": [],
   "source": [
    "full_split.to_csv(f'{data_cache_dir}/mcfaline23_gxe_splits/full_covariate_split.csv', header=False)"
   ]
  },
  {
   "cell_type": "markdown",
   "metadata": {},
   "source": [
    "## Scale across perturbations"
   ]
  },
  {
   "cell_type": "markdown",
   "metadata": {},
   "source": [
    "### Generate subsets"
   ]
  },
  {
   "cell_type": "code",
   "execution_count": null,
   "metadata": {},
   "outputs": [
    {
     "data": {
      "text/plain": [
       "528"
      ]
     },
     "metadata": {},
     "output_type": "display_data"
    }
   ],
   "source": [
    "unique_covariates = [x for x in adata.obs.condition.unique() if x != 'control']\n",
    "len(unique_covariates)"
   ]
  },
  {
   "cell_type": "code",
   "execution_count": null,
   "metadata": {},
   "outputs": [
    {
     "data": {
      "text/plain": [
       "(132, 264)"
      ]
     },
     "metadata": {},
     "output_type": "display_data"
    }
   ],
   "source": [
    "random.seed(84)\n",
    "medium_perturbations = random.sample(unique_covariates, int(len(unique_covariates)/2))\n",
    "small_perturbations = random.sample(medium_perturbations, int(len(medium_perturbations)/2))\n",
    "len(small_perturbations), len(medium_perturbations) "
   ]
  },
  {
   "cell_type": "markdown",
   "metadata": {},
   "source": [
    "### Generate splits"
   ]
  },
  {
   "cell_type": "markdown",
   "metadata": {},
   "source": [
    "#### Small"
   ]
  },
  {
   "cell_type": "code",
   "execution_count": null,
   "metadata": {},
   "outputs": [],
   "source": [
    "adata_small = adata[adata.obs.condition.isin(small_perturbations + ['control'])]\n",
    "adata_small"
   ]
  },
  {
   "cell_type": "code",
   "execution_count": 6,
   "metadata": {},
   "outputs": [],
   "source": [
    "splitter = PerturbationDataSplitter(\n",
    "    adata_small.obs.copy(),\n",
    "    perturbation_key='condition',\n",
    "    covariate_keys=['cell_type', 'treatment'],\n",
    "    perturbation_control_value='control',\n",
    ")"
   ]
  },
  {
   "cell_type": "code",
   "execution_count": null,
   "metadata": {},
   "outputs": [],
   "source": [
    "split = splitter.split_covariates(\n",
    "    seed=57,\n",
    "    print_split=True, ## Print a summary of the split if True\n",
    "    max_heldout_covariates=7, ## Maximum number of held out covariates (in this case cell types)\n",
    "    max_heldout_fraction_per_covariate=0.3, ## Maximum fraction of perturbations held out per covariate\n",
    ")"
   ]
  },
  {
   "cell_type": "code",
   "execution_count": 8,
   "metadata": {},
   "outputs": [
    {
     "data": {
      "text/plain": [
       "transfer_split_seed57\n",
       "train    222968\n",
       "test      70828\n",
       "val       70551\n",
       "Name: count, dtype: int64"
      ]
     },
     "execution_count": 8,
     "metadata": {},
     "output_type": "execute_result"
    }
   ],
   "source": [
    "split.value_counts()"
   ]
  },
  {
   "cell_type": "code",
   "execution_count": 9,
   "metadata": {},
   "outputs": [
    {
     "name": "stderr",
     "output_type": "stream",
     "text": [
      "/tmp/ipykernel_163560/570441843.py:2: FutureWarning: Setting an item of incompatible dtype is deprecated and will raise an error in a future version of pandas. Value '['train' 'train' 'train' ... 'train' 'train' 'train']' has dtype incompatible with float64, please explicitly cast to a compatible dtype first.\n",
      "  split_padded.loc[split.index] = split\n"
     ]
    },
    {
     "data": {
      "text/plain": [
       "train    222968\n",
       "test      70828\n",
       "val       70551\n",
       "Name: count, dtype: int64"
      ]
     },
     "execution_count": 9,
     "metadata": {},
     "output_type": "execute_result"
    }
   ],
   "source": [
    "split_padded = pd.Series(None, index=adata.obs.index)\n",
    "split_padded.loc[split.index] = split\n",
    "split_padded.value_counts()"
   ]
  },
  {
   "cell_type": "code",
   "execution_count": 10,
   "metadata": {},
   "outputs": [
    {
     "data": {
      "text/plain": [
       "878229"
      ]
     },
     "execution_count": 10,
     "metadata": {},
     "output_type": "execute_result"
    }
   ],
   "source": [
    "len(split_padded)"
   ]
  },
  {
   "cell_type": "code",
   "execution_count": 11,
   "metadata": {},
   "outputs": [],
   "source": [
    "split_padded.to_csv(f'{data_cache_dir}/mcfaline23_gxe_splits/small_split.csv', header=False)"
   ]
  },
  {
   "cell_type": "markdown",
   "metadata": {},
   "source": [
    "#### Medium"
   ]
  },
  {
   "cell_type": "code",
   "execution_count": null,
   "metadata": {},
   "outputs": [],
   "source": [
    "adata_medium = adata[adata.obs.condition.isin(medium_perturbations + ['control'])]\n",
    "adata_medium"
   ]
  },
  {
   "cell_type": "code",
   "execution_count": 13,
   "metadata": {},
   "outputs": [
    {
     "data": {
      "text/plain": [
       "train    387896\n",
       "test      70828\n",
       "val       70551\n",
       "Name: count, dtype: int64"
      ]
     },
     "execution_count": 13,
     "metadata": {},
     "output_type": "execute_result"
    }
   ],
   "source": [
    "medium_split = pd.Series('train', index=adata_medium.obs.index)\n",
    "for split_val in split.unique():\n",
    "    split_idx = split[split == split_val].index\n",
    "    medium_split.loc[split_idx] = split_val\n",
    "medium_split.value_counts()"
   ]
  },
  {
   "cell_type": "code",
   "execution_count": 14,
   "metadata": {},
   "outputs": [
    {
     "name": "stderr",
     "output_type": "stream",
     "text": [
      "/tmp/ipykernel_163560/1852419223.py:2: FutureWarning: Setting an item of incompatible dtype is deprecated and will raise an error in a future version of pandas. Value '['train' 'train' 'train' ... 'train' 'train' 'train']' has dtype incompatible with float64, please explicitly cast to a compatible dtype first.\n",
      "  medium_split_padded.loc[medium_split.index] = medium_split\n"
     ]
    },
    {
     "data": {
      "text/plain": [
       "train    387896\n",
       "test      70828\n",
       "val       70551\n",
       "Name: count, dtype: int64"
      ]
     },
     "execution_count": 14,
     "metadata": {},
     "output_type": "execute_result"
    }
   ],
   "source": [
    "medium_split_padded = pd.Series(None, index=adata.obs.index)\n",
    "medium_split_padded.loc[medium_split.index] = medium_split\n",
    "medium_split_padded.value_counts()"
   ]
  },
  {
   "cell_type": "code",
   "execution_count": 15,
   "metadata": {},
   "outputs": [],
   "source": [
    "medium_split_padded.to_csv(f'{data_cache_dir}/mcfaline23_gxe_splits/medium_split.csv', header=False)"
   ]
  },
  {
   "cell_type": "markdown",
   "metadata": {},
   "source": [
    "#### Full"
   ]
  },
  {
   "cell_type": "code",
   "execution_count": 16,
   "metadata": {},
   "outputs": [
    {
     "data": {
      "text/plain": [
       "train    736850\n",
       "test      70828\n",
       "val       70551\n",
       "Name: count, dtype: int64"
      ]
     },
     "execution_count": 16,
     "metadata": {},
     "output_type": "execute_result"
    }
   ],
   "source": [
    "full_split = pd.Series('train', index=adata.obs.index)\n",
    "for split_val in split.unique():\n",
    "    split_idx = split[split == split_val].index\n",
    "    full_split.loc[split_idx] = split_val\n",
    "full_split.value_counts()"
   ]
  },
  {
   "cell_type": "code",
   "execution_count": 17,
   "metadata": {},
   "outputs": [],
   "source": [
    "full_split.to_csv(f'{data_cache_dir}/mcfaline23_gxe_splits/full_split.csv', header=False)"
   ]
  }
 ],
 "metadata": {
  "kernelspec": {
   "display_name": "perturbench-dev",
   "language": "python",
   "name": "python3"
  },
  "language_info": {
   "codemirror_mode": {
    "name": "ipython",
    "version": 3
   },
   "file_extension": ".py",
   "mimetype": "text/x-python",
   "name": "python",
   "nbconvert_exporter": "python",
   "pygments_lexer": "ipython3",
   "version": "3.11.9"
  }
 },
 "nbformat": 4,
 "nbformat_minor": 4
}
