{
 "cells": [
  {
   "cell_type": "markdown",
   "id": "e700deb0-5ac6-4050-80ec-9809b84d9e45",
   "metadata": {},
   "source": [
    "# 2024-05-25-Preprocessing: Generating scGPT embeddings using the pretrained scGPT model"
   ]
  },
  {
   "cell_type": "code",
   "execution_count": null,
   "id": "50c63ac9-6a64-47f7-989d-616b326c15b6",
   "metadata": {},
   "outputs": [],
   "source": [
    "import sys\n",
    "from pathlib import Path\n",
    "\n",
    "import numpy as np\n",
    "import pandas as pd\n",
    "from scipy.stats import mode\n",
    "import scanpy as sc\n",
    "import sklearn\n",
    "import warnings\n",
    "\n",
    "import scgpt as scg"
   ]
  },
  {
   "cell_type": "code",
   "execution_count": null,
   "id": "b5f3c0e6",
   "metadata": {},
   "outputs": [],
   "source": [
    "data_cache_dir = '../perturbench_data' ## Change this to your local data directory"
   ]
  },
  {
   "cell_type": "code",
   "execution_count": null,
   "id": "555576b4-5bfe-4f3c-a02f-bdf41d0e3f2b",
   "metadata": {},
   "outputs": [],
   "source": [
    "# whole-human pretrained model is downloaded from:\n",
    "# https://github.com/bowang-lab/scGPT?tab=readme-ov-file#pretrained-scgpt-model-zoo\n",
    "\n",
    "model_dir = Path(f\"{data_cache_dir}/pretrained_models/scGPT_human\")\n"
   ]
  },
  {
   "cell_type": "markdown",
   "id": "bd1edfd9-8486-45a0-81cc-8cf0f8f3f894",
   "metadata": {},
   "source": [
    "### norman19"
   ]
  },
  {
   "cell_type": "code",
   "execution_count": 8,
   "id": "44eef29d-2025-4757-a017-4d1e455a5116",
   "metadata": {},
   "outputs": [],
   "source": [
    "datapath = f'{data_cache_dir}/norman19_processed.h5ad'"
   ]
  },
  {
   "cell_type": "code",
   "execution_count": 24,
   "id": "d5e8fbb0-5ebc-458f-9ec1-a1072e96b18a",
   "metadata": {},
   "outputs": [],
   "source": [
    "adata = sc.read_h5ad(datapath)"
   ]
  },
  {
   "cell_type": "code",
   "execution_count": 11,
   "id": "cf71f5df-a29c-488a-9ed2-65d50fb3bf47",
   "metadata": {},
   "outputs": [],
   "source": [
    "adata_copy = adata.copy()"
   ]
  },
  {
   "cell_type": "code",
   "execution_count": 12,
   "id": "1817edac-ee8d-4cea-a3bb-83dd9c9adc80",
   "metadata": {},
   "outputs": [],
   "source": [
    "adata_copy.X = adata_copy.layers['counts']"
   ]
  },
  {
   "cell_type": "code",
   "execution_count": null,
   "id": "805d2ac9-b72b-461f-9a04-6e46ad2d621e",
   "metadata": {},
   "outputs": [],
   "source": []
  },
  {
   "cell_type": "code",
   "execution_count": null,
   "id": "0028821b-7005-4bdf-88a1-7609568288d8",
   "metadata": {},
   "outputs": [],
   "source": [
    "adata_copy_embeddings = scg.tasks.embed_data(\n",
    "    adata_copy,\n",
    "    model_dir,\n",
    "    gene_col='gene_symbol',\n",
    "    batch_size=128,\n",
    "    return_new_adata=True,\n",
    ")"
   ]
  },
  {
   "cell_type": "code",
   "execution_count": 20,
   "id": "55295f79-257d-4172-ac71-60bbca9cf865",
   "metadata": {},
   "outputs": [
    {
     "data": {
      "text/plain": [
       "(91168, 512)"
      ]
     },
     "execution_count": 20,
     "metadata": {},
     "output_type": "execute_result"
    }
   ],
   "source": [
    "adata_copy_embeddings.X.shape"
   ]
  },
  {
   "cell_type": "code",
   "execution_count": 25,
   "id": "ca4f5165-d7b6-48b9-80eb-0ecd6f56f326",
   "metadata": {},
   "outputs": [],
   "source": [
    "adata.obsm['scgpt_embbeddings'] = adata_copy_embeddings.X"
   ]
  },
  {
   "cell_type": "code",
   "execution_count": 26,
   "id": "b0fa83a7-bccb-4713-bc06-39e243d1860e",
   "metadata": {},
   "outputs": [
    {
     "data": {
      "text/plain": [
       "AnnData object with n_obs × n_vars = 91168 × 5575\n",
       "    obs: 'orig.ident', 'ncounts', 'ngenes', 'cell_barcode', 'guide_identity', 'read_count', 'UMI_count', 'coverage', 'gemgroup', 'good_coverage', 'number_of_cells', 'percent_mito', 'batch', 'condition', 'dose_val', 'control', 'split1', 'split2', 'split3', 'split4', 'split5', 'perturbation', 'perturbation_type', 'dataset', 'cell_type', 'treatment', 'ood_split', 'ood_split_0', 'ood_split_1', 'ood_split_2', 'ood_split_3', 'dose', 'perturbation_raw', 'cov_merged', 'n_genes_by_counts', 'log1p_n_genes_by_counts', 'total_counts', 'log1p_total_counts', 'pct_counts_in_top_50_genes', 'pct_counts_in_top_100_genes', 'pct_counts_in_top_200_genes', 'pct_counts_in_top_500_genes', 'cov_drug_dose_name'\n",
       "    var: 'vst.mean', 'vst.variance', 'vst.variance.expected', 'vst.variance.standardized', 'vst.variable', 'hvg', 'gene_symbol', 'n_cells', 'n_cells_by_counts', 'mean_counts', 'log1p_mean_counts', 'pct_dropout_by_counts', 'total_counts', 'log1p_total_counts', 'highly_variable', 'highly_variable_rank', 'means', 'variances', 'variances_norm', 'highly_variable_nbatches'\n",
       "    uns: 'hvg', 'log1p', 'rank_genes_groups_cov'\n",
       "    obsm: 'scgpt_embbeddings'\n",
       "    layers: 'counts'"
      ]
     },
     "execution_count": 26,
     "metadata": {},
     "output_type": "execute_result"
    }
   ],
   "source": [
    "adata"
   ]
  },
  {
   "cell_type": "code",
   "execution_count": 29,
   "id": "9d979ab4-096c-4ef9-bca0-c066ad06ef30",
   "metadata": {},
   "outputs": [],
   "source": [
    "outfile = f'{data_cache_dir}/norman19_preprocessed_with_embeddings.h5ad'"
   ]
  },
  {
   "cell_type": "code",
   "execution_count": 30,
   "id": "9e9a51f6-4fa8-4dad-862d-2139e541bac4",
   "metadata": {},
   "outputs": [],
   "source": [
    "adata.write_h5ad(outfile)"
   ]
  },
  {
   "cell_type": "code",
   "execution_count": null,
   "id": "c817c720-84cc-4e9e-8373-77ff5cdaef4f",
   "metadata": {},
   "outputs": [],
   "source": []
  },
  {
   "cell_type": "markdown",
   "id": "0d11d6a9-0cc5-458b-9e72-6601d93e8d03",
   "metadata": {},
   "source": [
    "### mcfaline23"
   ]
  },
  {
   "cell_type": "code",
   "execution_count": 3,
   "id": "9cad5f29-aa3e-405d-ac8b-91cf49e6bde6",
   "metadata": {},
   "outputs": [],
   "source": [
    "datapath = f'{data_cache_dir}/mcfaline23_gxe_processed.h5ad'"
   ]
  },
  {
   "cell_type": "code",
   "execution_count": 4,
   "id": "f2502091-3415-4efb-8403-4edfcc34bf5b",
   "metadata": {},
   "outputs": [],
   "source": [
    "adata = sc.read_h5ad(datapath)"
   ]
  },
  {
   "cell_type": "code",
   "execution_count": 5,
   "id": "6a0493af-6157-40d0-a365-f69741925927",
   "metadata": {},
   "outputs": [
    {
     "data": {
      "text/plain": [
       "AnnData object with n_obs × n_vars = 878229 × 15009\n",
       "    obs: 'orig.ident', 'ncounts', 'ngenes', 'cell', 'sample', 'Size_Factor', 'n.umi', 'PCR_plate', 'new_cell', 'dose', 'treatment', 'gRNA_id', 'gene_id', 'guide_number', 'cell_type', 'drug_dose', 'perturbation_type', 'dataset', 'gene_dose', 'perturbation', 'pert_cl_tr', 'condition', 'condition_plus_treatment', 'cov_merged', 'n_genes_by_counts', 'log1p_n_genes_by_counts', 'total_counts', 'log1p_total_counts', 'pct_counts_in_top_50_genes', 'pct_counts_in_top_100_genes', 'pct_counts_in_top_200_genes', 'pct_counts_in_top_500_genes', 'control', 'dose_val', 'cov_drug_dose_name'\n",
       "    var: 'ensembl_id', 'n_cells', 'n_cells_by_counts', 'mean_counts', 'log1p_mean_counts', 'pct_dropout_by_counts', 'total_counts', 'log1p_total_counts', 'highly_variable', 'highly_variable_rank', 'means', 'variances', 'variances_norm', 'highly_variable_nbatches'\n",
       "    uns: 'hvg', 'log1p', 'rank_genes_groups_cov'\n",
       "    layers: 'counts'"
      ]
     },
     "execution_count": 5,
     "metadata": {},
     "output_type": "execute_result"
    }
   ],
   "source": [
    "adata"
   ]
  },
  {
   "cell_type": "code",
   "execution_count": null,
   "id": "93804ba9-36f3-4ae8-93e2-ee1f0def13c0",
   "metadata": {},
   "outputs": [],
   "source": []
  },
  {
   "cell_type": "code",
   "execution_count": 6,
   "id": "a4363bc3-52a9-49c9-8239-149d170fcabd",
   "metadata": {},
   "outputs": [],
   "source": [
    "adata_copy = adata.copy()"
   ]
  },
  {
   "cell_type": "code",
   "execution_count": 7,
   "id": "61c88b97-a6d8-441f-8528-0332f86e4744",
   "metadata": {},
   "outputs": [],
   "source": [
    "adata_copy.X = adata_copy.layers['counts']"
   ]
  },
  {
   "cell_type": "code",
   "execution_count": null,
   "id": "d26d826c-4c8d-42e5-813b-89f95e5a9b11",
   "metadata": {},
   "outputs": [],
   "source": [
    "adata_copy_embeddings = scg.tasks.embed_data(\n",
    "    adata_copy,\n",
    "    model_dir,\n",
    "    gene_col='index',\n",
    "    batch_size=128,\n",
    "    return_new_adata=True,\n",
    ")"
   ]
  },
  {
   "cell_type": "code",
   "execution_count": 9,
   "id": "c6d6770c-93e7-4263-84a0-2c53ea061174",
   "metadata": {},
   "outputs": [],
   "source": [
    "adata.obsm['scgpt_embbeddings'] = adata_copy_embeddings.X"
   ]
  },
  {
   "cell_type": "code",
   "execution_count": 10,
   "id": "7001ea77-04df-4fdd-b958-39c5bca0408a",
   "metadata": {},
   "outputs": [
    {
     "data": {
      "text/plain": [
       "AnnData object with n_obs × n_vars = 878229 × 15009\n",
       "    obs: 'orig.ident', 'ncounts', 'ngenes', 'cell', 'sample', 'Size_Factor', 'n.umi', 'PCR_plate', 'new_cell', 'dose', 'treatment', 'gRNA_id', 'gene_id', 'guide_number', 'cell_type', 'drug_dose', 'perturbation_type', 'dataset', 'gene_dose', 'perturbation', 'pert_cl_tr', 'condition', 'condition_plus_treatment', 'cov_merged', 'n_genes_by_counts', 'log1p_n_genes_by_counts', 'total_counts', 'log1p_total_counts', 'pct_counts_in_top_50_genes', 'pct_counts_in_top_100_genes', 'pct_counts_in_top_200_genes', 'pct_counts_in_top_500_genes', 'control', 'dose_val', 'cov_drug_dose_name'\n",
       "    var: 'ensembl_id', 'n_cells', 'n_cells_by_counts', 'mean_counts', 'log1p_mean_counts', 'pct_dropout_by_counts', 'total_counts', 'log1p_total_counts', 'highly_variable', 'highly_variable_rank', 'means', 'variances', 'variances_norm', 'highly_variable_nbatches'\n",
       "    uns: 'hvg', 'log1p', 'rank_genes_groups_cov'\n",
       "    obsm: 'scgpt_embbeddings'\n",
       "    layers: 'counts'"
      ]
     },
     "execution_count": 10,
     "metadata": {},
     "output_type": "execute_result"
    }
   ],
   "source": [
    "adata"
   ]
  },
  {
   "cell_type": "code",
   "execution_count": 11,
   "id": "29faf1bb-4fb4-45c1-ae0b-9975bcadd998",
   "metadata": {},
   "outputs": [],
   "source": [
    "outfile = f'{data_cache_dir}/mcfaline23_gxe_processed_with_embeddings.h5ad'"
   ]
  },
  {
   "cell_type": "code",
   "execution_count": 12,
   "id": "84c4e7db-e750-4c65-94e7-2467c930bf34",
   "metadata": {},
   "outputs": [],
   "source": [
    "adata.write_h5ad(outfile)"
   ]
  },
  {
   "cell_type": "code",
   "execution_count": null,
   "id": "75107a34-aa54-4d4e-841c-42ad7b8ecd1f",
   "metadata": {},
   "outputs": [],
   "source": []
  },
  {
   "cell_type": "markdown",
   "id": "618a15c1-16dc-4093-b9c4-5cd28b7ce4e3",
   "metadata": {},
   "source": [
    "### srivatsan20"
   ]
  },
  {
   "cell_type": "code",
   "execution_count": 13,
   "id": "244840ff-5d2a-4128-87b0-d79b4a6c36a6",
   "metadata": {},
   "outputs": [],
   "source": [
    "datapath = f'{data_cache_dir}/srivatsan20_processed.h5ad'"
   ]
  },
  {
   "cell_type": "code",
   "execution_count": 14,
   "id": "f45cb169-fdae-416d-b6e3-495da297848a",
   "metadata": {},
   "outputs": [],
   "source": [
    "adata = sc.read_h5ad(datapath)"
   ]
  },
  {
   "cell_type": "code",
   "execution_count": 15,
   "id": "37254cd9-9be0-4758-838b-2eda2aa13d4e",
   "metadata": {},
   "outputs": [
    {
     "data": {
      "text/plain": [
       "AnnData object with n_obs × n_vars = 178213 × 8630\n",
       "    obs: 'ncounts', 'well', 'plate', 'cell_line', 'replicate', 'time', 'dose_value', 'pathway_level_1', 'pathway_level_2', 'perturbation', 'target', 'pathway', 'dose_unit', 'celltype', 'disease', 'cancer', 'tissue_type', 'organism', 'perturbation_type', 'ngenes', 'percent_mito', 'percent_ribo', 'nperts', 'chembl-ID', 'dataset', 'cell_type', 'treatment', 'condition', 'dose', 'perturbation_raw', 'pert_cell_type', 'ood_split', 'cov_merged', 'n_genes_by_counts', 'log1p_n_genes_by_counts', 'total_counts', 'log1p_total_counts', 'pct_counts_in_top_50_genes', 'pct_counts_in_top_100_genes', 'pct_counts_in_top_200_genes', 'pct_counts_in_top_500_genes', 'control', 'dose_val', 'cov_drug_dose_name', '_scvi_cell_type'\n",
       "    var: 'ensembl_id', 'ncounts', 'ncells', 'gene_symbol', 'n_cells', 'n_cells_by_counts', 'mean_counts', 'log1p_mean_counts', 'pct_dropout_by_counts', 'total_counts', 'log1p_total_counts', 'highly_variable', 'highly_variable_rank', 'means', 'variances', 'variances_norm', 'highly_variable_nbatches'\n",
       "    uns: '_scvi_manager_uuid', '_scvi_uuid', 'hvg', 'log1p', 'rank_genes_groups_cov'\n",
       "    obsm: 'drugs_doses'\n",
       "    layers: 'counts'"
      ]
     },
     "execution_count": 15,
     "metadata": {},
     "output_type": "execute_result"
    }
   ],
   "source": [
    "adata"
   ]
  },
  {
   "cell_type": "code",
   "execution_count": null,
   "id": "fed78e4d-91b7-4a7a-8cae-428d74324372",
   "metadata": {},
   "outputs": [],
   "source": []
  },
  {
   "cell_type": "code",
   "execution_count": 16,
   "id": "c2d94811-f874-4cdd-9811-e576c08bd0b8",
   "metadata": {},
   "outputs": [],
   "source": [
    "adata_copy = adata.copy()"
   ]
  },
  {
   "cell_type": "code",
   "execution_count": 17,
   "id": "fc0f1a0a-a662-412f-942e-153522b1be87",
   "metadata": {},
   "outputs": [],
   "source": [
    "adata_copy.X = adata_copy.layers['counts']"
   ]
  },
  {
   "cell_type": "code",
   "execution_count": null,
   "id": "c78c0382-33dc-4993-9830-84c996c33c56",
   "metadata": {},
   "outputs": [],
   "source": [
    "adata_copy_embeddings = scg.tasks.embed_data(\n",
    "    adata_copy,\n",
    "    model_dir,\n",
    "    gene_col='index',\n",
    "    batch_size=128,\n",
    "    return_new_adata=True,\n",
    ")"
   ]
  },
  {
   "cell_type": "code",
   "execution_count": 19,
   "id": "fddccb04-6879-4456-9448-3d51ac18088c",
   "metadata": {},
   "outputs": [],
   "source": [
    "adata.obsm['scgpt_embbeddings'] = adata_copy_embeddings.X"
   ]
  },
  {
   "cell_type": "code",
   "execution_count": 20,
   "id": "f690c440-62ff-418f-b564-f8f15854553c",
   "metadata": {},
   "outputs": [
    {
     "data": {
      "text/plain": [
       "AnnData object with n_obs × n_vars = 178213 × 8630\n",
       "    obs: 'ncounts', 'well', 'plate', 'cell_line', 'replicate', 'time', 'dose_value', 'pathway_level_1', 'pathway_level_2', 'perturbation', 'target', 'pathway', 'dose_unit', 'celltype', 'disease', 'cancer', 'tissue_type', 'organism', 'perturbation_type', 'ngenes', 'percent_mito', 'percent_ribo', 'nperts', 'chembl-ID', 'dataset', 'cell_type', 'treatment', 'condition', 'dose', 'perturbation_raw', 'pert_cell_type', 'ood_split', 'cov_merged', 'n_genes_by_counts', 'log1p_n_genes_by_counts', 'total_counts', 'log1p_total_counts', 'pct_counts_in_top_50_genes', 'pct_counts_in_top_100_genes', 'pct_counts_in_top_200_genes', 'pct_counts_in_top_500_genes', 'control', 'dose_val', 'cov_drug_dose_name', '_scvi_cell_type'\n",
       "    var: 'ensembl_id', 'ncounts', 'ncells', 'gene_symbol', 'n_cells', 'n_cells_by_counts', 'mean_counts', 'log1p_mean_counts', 'pct_dropout_by_counts', 'total_counts', 'log1p_total_counts', 'highly_variable', 'highly_variable_rank', 'means', 'variances', 'variances_norm', 'highly_variable_nbatches'\n",
       "    uns: '_scvi_manager_uuid', '_scvi_uuid', 'hvg', 'log1p', 'rank_genes_groups_cov'\n",
       "    obsm: 'drugs_doses', 'scgpt_embbeddings'\n",
       "    layers: 'counts'"
      ]
     },
     "execution_count": 20,
     "metadata": {},
     "output_type": "execute_result"
    }
   ],
   "source": [
    "adata"
   ]
  },
  {
   "cell_type": "code",
   "execution_count": 21,
   "id": "f4be409f-f51c-45ee-80e6-c02a963765b8",
   "metadata": {},
   "outputs": [],
   "source": [
    "outfile = f'{data_cache_dir}/srivatsan20_highest_processed_with_embeddings.h5ad'"
   ]
  },
  {
   "cell_type": "code",
   "execution_count": 22,
   "id": "3cac7c8c-3d33-4cbf-9480-aead96a5894b",
   "metadata": {},
   "outputs": [],
   "source": [
    "adata.write_h5ad(outfile)"
   ]
  }
 ],
 "metadata": {
  "kernelspec": {
   "display_name": "base",
   "language": "python",
   "name": "base"
  },
  "language_info": {
   "codemirror_mode": {
    "name": "ipython",
    "version": 3
   },
   "file_extension": ".py",
   "mimetype": "text/x-python",
   "name": "python",
   "nbconvert_exporter": "python",
   "pygments_lexer": "ipython3",
   "version": "3.10.14"
  }
 },
 "nbformat": 4,
 "nbformat_minor": 5
}
