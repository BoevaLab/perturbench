{
 "cells": [
  {
   "cell_type": "markdown",
   "metadata": {},
   "source": [
    "# 2024-02-14-Analysis: PerturbationDataSplitter Demo"
   ]
  },
  {
   "cell_type": "code",
   "execution_count": 3,
   "metadata": {},
   "outputs": [
    {
     "name": "stdout",
     "output_type": "stream",
     "text": [
      "The autoreload extension is already loaded. To reload it, use:\n",
      "  %reload_ext autoreload\n"
     ]
    }
   ],
   "source": [
    "import scanpy as sc\n",
    "import pandas as pd\n",
    "from perturbench.data.datasplitter import PerturbationDataSplitter\n",
    "\n",
    "%load_ext autoreload\n",
    "%autoreload 2"
   ]
  },
  {
   "cell_type": "code",
   "execution_count": 8,
   "metadata": {},
   "outputs": [],
   "source": [
    "data_cache_dir = '../neurips2024/perturbench_data' ## Change this to your local data directory"
   ]
  },
  {
   "cell_type": "markdown",
   "metadata": {},
   "source": [
    "## Generating a cell type transfer split"
   ]
  },
  {
   "cell_type": "markdown",
   "metadata": {},
   "source": [
    "This split models the task where we have perturbations measured across a set of cell types but not every perturbation is measured in every cell type. We want to predict the effects of the perturbations in cell types where they have not been measured. We simulate this task by iterating over perturbations and for all cell types where this perturbation is measured, randomly choosing some cell types to hold out. \n",
    "\n",
    "Note: every cell type has at least some measured perturbations in the current version of this data splitter"
   ]
  },
  {
   "cell_type": "code",
   "execution_count": 9,
   "metadata": {},
   "outputs": [
    {
     "data": {
      "text/plain": [
       "AnnData object with n_obs × n_vars = 183856 × 9198 backed at '../neurips2024/perturbench_data/srivatsan20_processed.h5ad'\n",
       "    obs: 'ncounts', 'well', 'plate', 'cell_line', 'replicate', 'time', 'dose_value', 'pathway_level_1', 'pathway_level_2', 'perturbation', 'target', 'pathway', 'dose_unit', 'celltype', 'disease', 'cancer', 'tissue_type', 'organism', 'perturbation_type', 'ngenes', 'percent_mito', 'percent_ribo', 'nperts', 'chembl-ID', 'dataset', 'cell_type', 'treatment', 'condition', 'dose', 'cov_merged', 'n_genes_by_counts', 'log1p_n_genes_by_counts', 'total_counts', 'log1p_total_counts', 'pct_counts_in_top_50_genes', 'pct_counts_in_top_100_genes', 'pct_counts_in_top_200_genes', 'pct_counts_in_top_500_genes'\n",
       "    var: 'ensembl_id', 'ncounts', 'ncells', 'gene_symbol', 'n_cells', 'n_cells_by_counts', 'mean_counts', 'log1p_mean_counts', 'pct_dropout_by_counts', 'total_counts', 'log1p_total_counts', 'highly_variable', 'highly_variable_rank', 'means', 'variances', 'variances_norm', 'highly_variable_nbatches'\n",
       "    uns: 'hvg', 'log1p', 'rank_genes_groups_cov'\n",
       "    layers: 'counts'"
      ]
     },
     "execution_count": 9,
     "metadata": {},
     "output_type": "execute_result"
    }
   ],
   "source": [
    "balanced_transfer_adata = sc.read_h5ad(f'{data_cache_dir}/srivatsan20_processed.h5ad', backed='r')\n",
    "balanced_transfer_adata"
   ]
  },
  {
   "cell_type": "markdown",
   "metadata": {},
   "source": [
    "Initialize splitter"
   ]
  },
  {
   "cell_type": "code",
   "execution_count": 10,
   "metadata": {},
   "outputs": [
    {
     "data": {
      "text/plain": [
       "<perturbench.data.datasplitter.PerturbationDataSplitter at 0x7fd5ac054490>"
      ]
     },
     "execution_count": 10,
     "metadata": {},
     "output_type": "execute_result"
    }
   ],
   "source": [
    "balanced_transfer_splitter = PerturbationDataSplitter(\n",
    "    balanced_transfer_adata.obs.copy(),\n",
    "    perturbation_key='condition',\n",
    "    covariate_keys=['cell_type'],\n",
    "    perturbation_control_value='control',\n",
    ")\n",
    "balanced_transfer_splitter"
   ]
  },
  {
   "cell_type": "markdown",
   "metadata": {},
   "source": [
    "Generate a split. Setting a seed will ensure you get the same split every time"
   ]
  },
  {
   "cell_type": "code",
   "execution_count": null,
   "metadata": {},
   "outputs": [],
   "source": [
    "balanced_transfer_split = balanced_transfer_splitter.split_covariates(\n",
    "    seed=0, \n",
    "    print_split=True, ## Print a summary of the split if True\n",
    "    max_heldout_covariates=2, ## Maximum number of held out covariates (in this case cell types)\n",
    "    max_heldout_fraction_per_covariate=0.3, ## Maximum fraction of perturbations held out per covariate\n",
    ")"
   ]
  },
  {
   "cell_type": "markdown",
   "metadata": {},
   "source": [
    "The split is returned as a pandas Series but is also stored in the splitter object in the `obs_dataframe` slot, indexed by a column that is the combination of the type of split (transfer_split) and random seed (seed0)"
   ]
  },
  {
   "cell_type": "code",
   "execution_count": 12,
   "metadata": {},
   "outputs": [
    {
     "data": {
      "text/plain": [
       "transfer_split_seed0\n",
       "train    124972\n",
       "test      29635\n",
       "val       29249\n",
       "Name: count, dtype: int64"
      ]
     },
     "execution_count": 12,
     "metadata": {},
     "output_type": "execute_result"
    }
   ],
   "source": [
    "balanced_transfer_splitter.obs_dataframe.loc[:,'transfer_split_seed0'].value_counts()"
   ]
  },
  {
   "cell_type": "markdown",
   "metadata": {},
   "source": [
    "We can access the parameters used to generate this split in the `split_params` slot"
   ]
  },
  {
   "cell_type": "code",
   "execution_count": 13,
   "metadata": {},
   "outputs": [
    {
     "data": {
      "text/plain": [
       "{'min_train_covariates': 1,\n",
       " 'max_heldout_covariates': 2,\n",
       " 'max_heldout_fraction_per_cov': 0.3,\n",
       " 'train_control_fraction': 0.5}"
      ]
     },
     "execution_count": 13,
     "metadata": {},
     "output_type": "execute_result"
    }
   ],
   "source": [
    "balanced_transfer_splitter.split_params['transfer_split_seed0']"
   ]
  },
  {
   "cell_type": "markdown",
   "metadata": {},
   "source": [
    "And we can access the split summary dataframe in the `summary_dataframes` slot"
   ]
  },
  {
   "cell_type": "code",
   "execution_count": 14,
   "metadata": {},
   "outputs": [
    {
     "data": {
      "text/html": [
       "<div>\n",
       "<style scoped>\n",
       "    .dataframe tbody tr th:only-of-type {\n",
       "        vertical-align: middle;\n",
       "    }\n",
       "\n",
       "    .dataframe tbody tr th {\n",
       "        vertical-align: top;\n",
       "    }\n",
       "\n",
       "    .dataframe thead th {\n",
       "        text-align: right;\n",
       "    }\n",
       "</style>\n",
       "<table border=\"1\" class=\"dataframe\">\n",
       "  <thead>\n",
       "    <tr style=\"text-align: right;\">\n",
       "      <th></th>\n",
       "      <th>train</th>\n",
       "      <th>val</th>\n",
       "      <th>test</th>\n",
       "    </tr>\n",
       "  </thead>\n",
       "  <tbody>\n",
       "    <tr>\n",
       "      <th>('mcf7',)</th>\n",
       "      <td>132</td>\n",
       "      <td>30</td>\n",
       "      <td>29</td>\n",
       "    </tr>\n",
       "    <tr>\n",
       "      <th>('k562',)</th>\n",
       "      <td>132</td>\n",
       "      <td>29</td>\n",
       "      <td>30</td>\n",
       "    </tr>\n",
       "    <tr>\n",
       "      <th>('a549',)</th>\n",
       "      <td>132</td>\n",
       "      <td>29</td>\n",
       "      <td>30</td>\n",
       "    </tr>\n",
       "  </tbody>\n",
       "</table>\n",
       "</div>"
      ],
      "text/plain": [
       "           train  val  test\n",
       "('mcf7',)    132   30    29\n",
       "('k562',)    132   29    30\n",
       "('a549',)    132   29    30"
      ]
     },
     "execution_count": 14,
     "metadata": {},
     "output_type": "execute_result"
    }
   ],
   "source": [
    "balanced_transfer_splitter.summary_dataframes['transfer_split_seed0']"
   ]
  },
  {
   "cell_type": "markdown",
   "metadata": {},
   "source": [
    "Since we set `max_heldout_covariates=2` we should have some perturbations that trained in one cell type and some trained in two (since there are 3 total cell types in this dataset). Let's look at the number of training cell types per perturbation"
   ]
  },
  {
   "cell_type": "code",
   "execution_count": 15,
   "metadata": {},
   "outputs": [],
   "source": [
    "def get_num_train_cell_types(\n",
    "    splitter,\n",
    "    split_key,\n",
    "):\n",
    "    \"\"\"Returns the number of training cell types per perturbation\"\"\"\n",
    "    num_train_cell_types = []\n",
    "    for pert in splitter.obs_dataframe.condition.unique():\n",
    "        pert_df = splitter.obs_dataframe[splitter.obs_dataframe.condition == pert]\n",
    "        pert_df = pert_df.loc[:,['cell_type', split_key]].drop_duplicates()\n",
    "        num_train_cell_types.append(pert_df.loc[pert_df[split_key] == 'train', 'cell_type'].nunique())\n",
    "\n",
    "    num_train_cell_types = pd.Series(num_train_cell_types, index=splitter.obs_dataframe.condition.unique())\n",
    "    return num_train_cell_types"
   ]
  },
  {
   "cell_type": "markdown",
   "metadata": {},
   "source": [
    "When we look at the number of training cell types we see the distribution we expect"
   ]
  },
  {
   "cell_type": "code",
   "execution_count": 16,
   "metadata": {},
   "outputs": [
    {
     "data": {
      "text/plain": [
       "3    77\n",
       "1    59\n",
       "2    53\n",
       "Name: count, dtype: int64"
      ]
     },
     "execution_count": 16,
     "metadata": {},
     "output_type": "execute_result"
    }
   ],
   "source": [
    "num_train_cell_types = get_num_train_cell_types(balanced_transfer_splitter, 'transfer_split_seed0')\n",
    "num_train_cell_types.value_counts()\n"
   ]
  },
  {
   "cell_type": "markdown",
   "metadata": {},
   "source": [
    "If we set `max_heldout_covariates=1` there should be at least 2 training cell types per perturbation. This makes things a bit easier for the model"
   ]
  },
  {
   "cell_type": "code",
   "execution_count": null,
   "metadata": {},
   "outputs": [],
   "source": [
    "balanced_transfer_split = balanced_transfer_splitter.split_covariates(\n",
    "    seed=1, \n",
    "    print_split=True, ## Print a summary of the split if True\n",
    "    max_heldout_covariates=1, ## Maximum number of held out covariates (in this case cell types)\n",
    "    max_heldout_fraction_per_covariate=0.3, ## Maximum fraction of perturbations held out per covariate\n",
    ")"
   ]
  },
  {
   "cell_type": "code",
   "execution_count": 18,
   "metadata": {},
   "outputs": [
    {
     "data": {
      "text/plain": [
       "2    171\n",
       "3     18\n",
       "Name: count, dtype: int64"
      ]
     },
     "execution_count": 18,
     "metadata": {},
     "output_type": "execute_result"
    }
   ],
   "source": [
    "num_train_cell_types = get_num_train_cell_types(balanced_transfer_splitter, 'transfer_split_seed1')\n",
    "num_train_cell_types.value_counts()\n"
   ]
  },
  {
   "cell_type": "markdown",
   "metadata": {},
   "source": [
    "We can adjust the relative balance of perturbations used for training and held out perturbations using the `max_heldout_fraction_per_covariate` parameter"
   ]
  },
  {
   "cell_type": "code",
   "execution_count": null,
   "metadata": {},
   "outputs": [],
   "source": [
    "balanced_transfer_split = balanced_transfer_splitter.split_covariates(\n",
    "    seed=2, \n",
    "    print_split=True, ## Print a summary of the split if True\n",
    "    max_heldout_covariates=1, ## Maximum number of held out covariates (in this case cell types)\n",
    "    max_heldout_fraction_per_covariate=0.2, ## Maximum fraction of perturbations held out per covariate\n",
    ")"
   ]
  },
  {
   "cell_type": "markdown",
   "metadata": {},
   "source": [
    "## Generating a combo split"
   ]
  },
  {
   "cell_type": "markdown",
   "metadata": {},
   "source": [
    "This split models the task where we have single perturbations and a handful of combinations and want to predict the effects of the remaining combinations. We simulate this task by keeping all single perturbations for training, and holding some tunable fraction of the combinations randomly in each cell type"
   ]
  },
  {
   "cell_type": "code",
   "execution_count": 20,
   "metadata": {},
   "outputs": [
    {
     "data": {
      "text/plain": [
       "AnnData object with n_obs × n_vars = 111445 × 5850 backed at '../neurips2024/perturbench_data/norman19_processed.h5ad'\n",
       "    obs: 'guide_id', 'read_count', 'UMI_count', 'coverage', 'gemgroup', 'good_coverage', 'number_of_cells', 'tissue_type', 'cell_type', 'cancer', 'disease', 'perturbation_type', 'celltype', 'organism', 'perturbation', 'nperts', 'ngenes', 'ncounts', 'percent_mito', 'percent_ribo', 'condition', 'cov_merged', 'n_genes_by_counts', 'log1p_n_genes_by_counts', 'total_counts', 'log1p_total_counts', 'pct_counts_in_top_50_genes', 'pct_counts_in_top_100_genes', 'pct_counts_in_top_200_genes', 'pct_counts_in_top_500_genes'\n",
       "    var: 'ensemble_id', 'ncounts', 'ncells', 'n_cells', 'n_cells_by_counts', 'mean_counts', 'log1p_mean_counts', 'pct_dropout_by_counts', 'total_counts', 'log1p_total_counts', 'highly_variable', 'highly_variable_rank', 'means', 'variances', 'variances_norm', 'highly_variable_nbatches'\n",
       "    uns: 'hvg', 'log1p', 'rank_genes_groups_cov'\n",
       "    layers: 'counts'"
      ]
     },
     "execution_count": 20,
     "metadata": {},
     "output_type": "execute_result"
    }
   ],
   "source": [
    "combo_adata = sc.read_h5ad(f'{data_cache_dir}/norman19_processed.h5ad', backed='r')\n",
    "combo_adata"
   ]
  },
  {
   "cell_type": "markdown",
   "metadata": {},
   "source": [
    "Initialize splitter"
   ]
  },
  {
   "cell_type": "code",
   "execution_count": 21,
   "metadata": {},
   "outputs": [
    {
     "data": {
      "text/plain": [
       "<perturbench.data.datasplitter.PerturbationDataSplitter at 0x7fd574f39510>"
      ]
     },
     "execution_count": 21,
     "metadata": {},
     "output_type": "execute_result"
    }
   ],
   "source": [
    "combo_splitter = PerturbationDataSplitter(\n",
    "    combo_adata.obs.copy(),\n",
    "    perturbation_key='condition',\n",
    "    covariate_keys=None,\n",
    "    perturbation_control_value='control',\n",
    ")\n",
    "combo_splitter"
   ]
  },
  {
   "cell_type": "markdown",
   "metadata": {},
   "source": [
    "Generate a split. Setting a seed will ensure you get the same split every time"
   ]
  },
  {
   "cell_type": "code",
   "execution_count": 22,
   "metadata": {},
   "outputs": [
    {
     "name": "stdout",
     "output_type": "stream",
     "text": [
      "        train  val  test\n",
      "('1',)    198   20    21\n"
     ]
    }
   ],
   "source": [
    "combo_split = combo_splitter.split_combinations(\n",
    "    seed=0, \n",
    "    print_split=True, ## Print a summary of the split if True\n",
    "    max_heldout_fraction_per_covariate=0.3, ## Maximum fraction of perturbations held out per covariate\n",
    ")"
   ]
  },
  {
   "cell_type": "markdown",
   "metadata": {},
   "source": [
    "We can modify the `max_heldout_fraction_per_covariate` parameter to increase or decrease the number of held out combos"
   ]
  },
  {
   "cell_type": "code",
   "execution_count": 23,
   "metadata": {},
   "outputs": [
    {
     "name": "stdout",
     "output_type": "stream",
     "text": [
      "        train  val  test\n",
      "('1',)    146   46    47\n"
     ]
    }
   ],
   "source": [
    "combo_split = combo_splitter.split_combinations(\n",
    "    seed=0, \n",
    "    print_split=True, ## Print a summary of the split if True\n",
    "    max_heldout_fraction_per_covariate=0.7, ## Maximum fraction of perturbations held out per covariate\n",
    ")"
   ]
  },
  {
   "cell_type": "markdown",
   "metadata": {},
   "source": [
    "## Generating a inverse combo split"
   ]
  },
  {
   "cell_type": "markdown",
   "metadata": {},
   "source": [
    "This split models the task where we've observed all combinations of perturbations and some of the single perturbations, and are trying to predict the effects of the remaining single perturbations"
   ]
  },
  {
   "cell_type": "code",
   "execution_count": 24,
   "metadata": {},
   "outputs": [
    {
     "name": "stdout",
     "output_type": "stream",
     "text": [
      "        train  val  test\n",
      "('1',)    206   16    17\n"
     ]
    }
   ],
   "source": [
    "inverse_combo_split = combo_splitter.split_combinations_inverse(\n",
    "    seed=0, \n",
    "    print_split=True, ## Print a summary of the split if True\n",
    "    max_heldout_fraction_per_covariate=0.3, ## Maximum fraction of perturbations held out per covariate\n",
    ")"
   ]
  }
 ],
 "metadata": {
  "kernelspec": {
   "display_name": "perturbench-dev",
   "language": "python",
   "name": "python3"
  },
  "language_info": {
   "codemirror_mode": {
    "name": "ipython",
    "version": 3
   },
   "file_extension": ".py",
   "mimetype": "text/x-python",
   "name": "python",
   "nbconvert_exporter": "python",
   "pygments_lexer": "ipython3",
   "version": "3.11.9"
  }
 },
 "nbformat": 4,
 "nbformat_minor": 2
}
